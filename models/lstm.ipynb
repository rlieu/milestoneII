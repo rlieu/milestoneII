{
 "cells": [
  {
   "cell_type": "code",
   "execution_count": 65,
   "metadata": {},
   "outputs": [],
   "source": [
    "\n",
    "\n",
    "import pandas as pd\n",
    "import numpy as np\n",
    "from model_team14 import select_features\n",
    "\n",
    "## select imputed & transformed data\n",
    "X=pd.read_csv('../data/X_data_tr.csv', index_col='date', parse_dates=True)\n",
    "y=pd.read_csv('../data/y_data_tr.csv', index_col='date', parse_dates=True)\n",
    "threshold=0.3\n",
    "criteria=None\n",
    "\n",
    "df_feature=pd.read_csv('../data/df_feature.csv')\n",
    "\n",
    "selected_features=list(df_feature[df_feature.select==1]['variable'])\n",
    "\n",
    "y_type = 'y_agg'\n",
    "test_year = 8\n",
    "\n",
    "X_train=X[selected_features][:-(test_year*12)]\n",
    "y_train=y[y_type][:-(test_year*12)]           \n",
    "X_test=X[selected_features][-(test_year*12):]   \n",
    "y_test=y[y_type][-(test_year*12):]"
   ]
  },
  {
   "cell_type": "code",
   "execution_count": 66,
   "metadata": {},
   "outputs": [],
   "source": [
    "def create_dataset(X, y, time_steps=1):\n",
    "    Xs, ys = [], []\n",
    "    for i in range(len(X) - time_steps):\n",
    "        v = X.iloc[i:(i + time_steps)].values\n",
    "        Xs.append(v)        \n",
    "        ys.append(y.iloc[i + time_steps])\n",
    "    return np.array(Xs), np.array(ys)\n",
    "# Timesteps will define how many Elements we have\n",
    "TIME_STEPS = 5\n",
    "\n",
    "# X_train, y_train = create_dataset(X_train, y_train, TIME_STEPS)\n",
    "# X_test, y_test = create_dataset(X_test, y_test, TIME_STEPS)\n",
    "\n",
    "# print(X_train.shape)"
   ]
  },
  {
   "cell_type": "code",
   "execution_count": 68,
   "metadata": {},
   "outputs": [
    {
     "ename": "TypeError",
     "evalue": "unsupported operand type(s) for -: 'int' and 'list'",
     "output_type": "error",
     "traceback": [
      "\u001b[0;31m---------------------------------------------------------------------------\u001b[0m",
      "\u001b[0;31mTypeError\u001b[0m                                 Traceback (most recent call last)",
      "Cell \u001b[0;32mIn[68], line 32\u001b[0m\n\u001b[1;32m     24\u001b[0m             results\u001b[39m.\u001b[39mappend({\n\u001b[1;32m     25\u001b[0m                 \u001b[39m'\u001b[39m\u001b[39mnum_epochs\u001b[39m\u001b[39m'\u001b[39m: num_epochs,\n\u001b[1;32m     26\u001b[0m                 \u001b[39m'\u001b[39m\u001b[39mbatch_size\u001b[39m\u001b[39m'\u001b[39m: batch_size,\n\u001b[1;32m     27\u001b[0m                 \u001b[39m'\u001b[39m\u001b[39mAUC\u001b[39m\u001b[39m'\u001b[39m: auc\n\u001b[1;32m     28\u001b[0m             })\n\u001b[1;32m     30\u001b[0m     \u001b[39mreturn\u001b[39;00m results\n\u001b[0;32m---> 32\u001b[0m grid_search(X_train, y_train, X_test, y_test)\n",
      "Cell \u001b[0;32mIn[68], line 7\u001b[0m, in \u001b[0;36mgrid_search\u001b[0;34m(X_train, y_train, X_test, y_test, epochs, batch_sizes, time_steps)\u001b[0m\n\u001b[1;32m      6\u001b[0m \u001b[39mdef\u001b[39;00m \u001b[39mgrid_search\u001b[39m(X_train, y_train, X_test, y_test, epochs\u001b[39m=\u001b[39m[\u001b[39m15\u001b[39m,\u001b[39m20\u001b[39m],batch_sizes\u001b[39m=\u001b[39m[\u001b[39m12\u001b[39m,\u001b[39m64\u001b[39m],time_steps\u001b[39m=\u001b[39m[\u001b[39m1\u001b[39m,\u001b[39m5\u001b[39m]):\n\u001b[0;32m----> 7\u001b[0m     X_train, y_train \u001b[39m=\u001b[39m create_dataset(X_train, y_train, time_steps)\n\u001b[1;32m      8\u001b[0m     X_test, y_test \u001b[39m=\u001b[39m create_dataset(X_test, y_test, time_steps)\n\u001b[1;32m     10\u001b[0m     results \u001b[39m=\u001b[39m []\n",
      "Cell \u001b[0;32mIn[66], line 3\u001b[0m, in \u001b[0;36mcreate_dataset\u001b[0;34m(X, y, time_steps)\u001b[0m\n\u001b[1;32m      1\u001b[0m \u001b[39mdef\u001b[39;00m \u001b[39mcreate_dataset\u001b[39m(X, y, time_steps\u001b[39m=\u001b[39m\u001b[39m1\u001b[39m):\n\u001b[1;32m      2\u001b[0m     Xs, ys \u001b[39m=\u001b[39m [], []\n\u001b[0;32m----> 3\u001b[0m     \u001b[39mfor\u001b[39;00m i \u001b[39min\u001b[39;00m \u001b[39mrange\u001b[39m(\u001b[39mlen\u001b[39;49m(X) \u001b[39m-\u001b[39;49m time_steps):\n\u001b[1;32m      4\u001b[0m         v \u001b[39m=\u001b[39m X\u001b[39m.\u001b[39miloc[i:(i \u001b[39m+\u001b[39m time_steps)]\u001b[39m.\u001b[39mvalues\n\u001b[1;32m      5\u001b[0m         Xs\u001b[39m.\u001b[39mappend(v)        \n",
      "\u001b[0;31mTypeError\u001b[0m: unsupported operand type(s) for -: 'int' and 'list'"
     ]
    }
   ],
   "source": [
    "import tensorflow as tf\n",
    "from tensorflow.keras.models import Sequential\n",
    "from tensorflow.keras.layers import Dense\n",
    "from tensorflow.keras.layers import LSTM\n",
    "\n",
    "def grid_search(X_train, y_train, X_test, y_test, epochs=[15,20],batch_sizes=[12,64],time_steps=[1,5]):\n",
    "    results = []\n",
    "\n",
    "    for time_step in time_steps:\n",
    "        X_train, y_train = create_dataset(X_train, y_train, time_step)\n",
    "        X_test, y_test = create_dataset(X_test, y_test, time_step)\n",
    "        for num_epochs in epochs:\n",
    "            for batch_size in batch_sizes:\n",
    "                # create the model\n",
    "                model = Sequential()\n",
    "                model.add(LSTM(100, input_shape=(X_train.shape[1], X_train.shape[2])))\n",
    "                model.add(Dense(1, activation='sigmoid'))\n",
    "                model.compile(loss='binary_crossentropy', optimizer='adam', metrics=['AUC'])\n",
    "                model.fit(X_train, y_train, epochs=num_epochs, batch_size=batch_size)\n",
    "                print(model.summary())\n",
    "                # Final evaluation of the model\n",
    "                scores = model.evaluate(X_test, y_test, verbose=0)\n",
    "                auc = scores[1]*100\n",
    "                print(\"AUC: %.2f%%\" % (auc))\n",
    "                results.append({\n",
    "                    'time_steps': time_step,\n",
    "                    'num_epochs': num_epochs,\n",
    "                    'batch_size': batch_size,\n",
    "                    'AUC': auc\n",
    "                })\n",
    "\n",
    "    return results\n",
    "\n",
    "grid_search(X_train, y_train, X_test, y_test)"
   ]
  }
 ],
 "metadata": {
  "kernelspec": {
   "display_name": "milestoneII-GYt9I6pr",
   "language": "python",
   "name": "python3"
  },
  "language_info": {
   "codemirror_mode": {
    "name": "ipython",
    "version": 3
   },
   "file_extension": ".py",
   "mimetype": "text/x-python",
   "name": "python",
   "nbconvert_exporter": "python",
   "pygments_lexer": "ipython3",
   "version": "3.10.8"
  },
  "orig_nbformat": 4
 },
 "nbformat": 4,
 "nbformat_minor": 2
}
