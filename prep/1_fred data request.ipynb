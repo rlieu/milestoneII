{
 "cells": [
  {
   "cell_type": "code",
   "execution_count": 1,
   "id": "ecc6b852",
   "metadata": {},
   "outputs": [],
   "source": [
    "# !pip install requests\n",
    "#!pip install openpyxl ## for deepnote\n",
    "# !python -m pip install -U matplotlib"
   ]
  },
  {
   "cell_type": "code",
   "execution_count": 2,
   "id": "181a86c7",
   "metadata": {},
   "outputs": [],
   "source": [
    "import json\n",
    "import requests\n",
    "import pandas as pd\n",
    "# import matplotlib #as mpl\n",
    "# import matplotlib.pyplot #as plt"
   ]
  },
  {
   "cell_type": "code",
   "execution_count": 3,
   "id": "8b7f5d9d",
   "metadata": {},
   "outputs": [],
   "source": [
    "syspath='../data'\n",
    "#sys_path='/root/work/milestoneII/data' ## for deepnote\n",
    "#syspath='C:/Users/gredi/Desktop/MADS/696_Milestone2/github/milestoneII/data' ## jupyter notebook"
   ]
  },
  {
   "cell_type": "markdown",
   "id": "05ed41a9",
   "metadata": {},
   "source": [
    "# Data Preparation\n",
    "\n",
    "## download data from FRED API\n",
    "\n",
    "###  get_data function: \n",
    "\n",
    "#### input: \n",
    "- var_list: list of variable codes\n",
    "- start_date(optional): start date of data(string, YYYY-MM-DD)\n",
    "- end_date(optional): end date of data(string, YYYY-MM-DD)\n",
    "- filter_cols(optional): assign if drop==True. the part of var_list to consider when filtering \n",
    "- drop: if True, filter the data by min, max date where given variable is available(not NaN)\n",
    "- freq: assign together with agg variable, aggregate the data to higher frequency\n",
    "- agg: assign together with freq variable, aggregateion method\n",
    "\n",
    "#### output:\n",
    "- data: row=date, columns=variable code, \n",
    "- info: the information table to look up the information about the variable\n",
    "- filter_data: the filtered data with full observations"
   ]
  },
  {
   "cell_type": "code",
   "execution_count": 4,
   "id": "cbc42ccd",
   "metadata": {},
   "outputs": [],
   "source": [
    "def use_requests(api_url):\n",
    "    response = requests.get(api_url)\n",
    "    json_response = json.loads(response.text)\n",
    "    return json_response\n",
    "\n",
    "def get_var_obs(var_list, start_date='1776-07-04', end_date='9999-12-31', freq=None, agg=None):\n",
    "    \n",
    "    for i, id_ in enumerate(var_list):\n",
    "        if (freq!=None)&(agg!=None):\n",
    "            url='https://api.stlouisfed.org/fred/series/observations?\\\n",
    "            series_id={}&\\\n",
    "            api_key={}&file_type=json&\\\n",
    "            observation_start={}&\\\n",
    "            observation_end={}&\\\n",
    "            frequency={}&\\\n",
    "            aggregation_methoe={}'.format(id_, api_key, start_date, end_date, freq, agg)\n",
    "            data=use_requests(url)\n",
    "        else:\n",
    "            url='https://api.stlouisfed.org/fred/series/observations?\\\n",
    "            series_id={}&\\\n",
    "            api_key={}&file_type=json&\\\n",
    "            observation_start={}&\\\n",
    "            observation_end={}'.format(id_, api_key, start_date, end_date)\n",
    "            data=use_requests(url)\n",
    "        \n",
    "#        print(data)\n",
    "        df = pd.json_normalize(data['observations'])\n",
    "        df.drop(columns=['realtime_start','realtime_end'], inplace=True)\n",
    "        df.rename(columns={'value':'{}'.format(id_)}, inplace=True)\n",
    "        if i==0:\n",
    "            final_df=df\n",
    "        else:\n",
    "            final_df=final_df.merge(df, how='left',left_on='date',right_on='date')\n",
    "        \n",
    "    return final_df\n",
    "    \n",
    "    \n",
    "def get_var_info(var_list):\n",
    "    \n",
    "    var_dict=[]\n",
    "\n",
    "    for i, id_ in enumerate(var_list):\n",
    "#        print(id_)\n",
    "        url='https://api.stlouisfed.org/fred/series?\\\n",
    "            series_id={}&\\\n",
    "            api_key={}&file_type=json'.format(id_, api_key)\n",
    "        try:\n",
    "            info=use_requests(url)['seriess'][0]    \n",
    "            var_dict.append(info)\n",
    "        except KeyError:\n",
    "            pass\n",
    "    \n",
    "    df = pd.json_normalize(var_dict)\n",
    "    df=df.drop(columns=['realtime_start', 'realtime_end','frequency','units',\n",
    "                        'seasonal_adjustment','popularity'])\n",
    "    return df\n",
    "\n",
    "def get_date_range(df, cols=None, drop=False):\n",
    "    \"\"\"return a tuple of the earliest and latest valid data for all columns in the list\"\"\"\n",
    "    if cols==None:\n",
    "        cols=list(df.columns)\n",
    "    \n",
    "    min_date,max_date = df[cols].apply(pd.Series.first_valid_index).max(), df[cols].apply(pd.Series.last_valid_index).min()\n",
    "    return df.loc[min_date, 'date'], df.loc[max_date, 'date']\n",
    "\n",
    "\n",
    "def get_data(var_list, start_date='1776-07-04', end_date='9999-12-31', filter_cols=None, drop=False,\n",
    "            freq=None, agg=None):\n",
    "\n",
    "    data=get_var_obs(var_list, start_date, end_date, freq=freq, agg=agg)\n",
    "    info=get_var_info(var_list)\n",
    "    \n",
    "    if drop==True:\n",
    "        if filter_cols==None:\n",
    "            cols=list(data.columns)\n",
    "    \n",
    "    a,b=get_date_range(data, cols=cols, drop=drop)\n",
    "    \n",
    "    if drop==True:\n",
    "        filter_data=data.loc[(data.date >= a) & (data.date <= b)]\n",
    "        return data, info, filter_data\n",
    "    else:\n",
    "        return data, info"
   ]
  },
  {
   "cell_type": "markdown",
   "id": "44485ce9",
   "metadata": {},
   "source": [
    "###  download the data and metadata using get_data function\n",
    "\n",
    "#### explanation\n",
    "- info_allvar: the list of all candidate variables which is composed of 4 sub-components of FRED-MD, var_stock, var_other, and the others\n",
    " - 1) FRED-MD: data/DATA.csv file \n",
    " - 2)  var_stock: additional stock market relevant features sourced from FRED (**daily** data and aggregated to **monthly average** data)\n",
    " - 3) var_other: additional price, banking relevant features sourced from FRED (**monthly** data)\n",
    " - 4) the others: data sourced from OECD, EPU, and NBER and the data are manually downloaded and copied/pasted in data/DATA.csv file(=FRED-MD data csv file)\n",
    "\n",
    "\n",
    "- info: the metadtata of all candidate variables downloaded using FRED API\n",
    "\n",
    "** we need to additionally download var_stock and var_other from FRED and merge tham to DATA.csv file"
   ]
  },
  {
   "cell_type": "code",
   "execution_count": 5,
   "id": "a93bb2a5",
   "metadata": {},
   "outputs": [
    {
      "cell_type": "code",
      "execution_count": 1,
      "id": "ecc6b852",
      "metadata": {},
      "outputs": [],
      "source": [
        "# !pip install requests\n",
        "#!pip install openpyxl ## for deepnote\n",
        "# !python -m pip install -U matplotlib"
      ]
     },
     "execution_count": 5,
     "metadata": {},
     "output_type": "execute_result"
    }
   ],
   "source": [
    "api_key='1bcb66688766335e858be86bd8e202ba'\n",
    "info_allvar=pd.read_excel(syspath+'\\\\FRED-MD_updated_appendix.xlsx')\n",
    "info_allvar=info_allvar[['tcode','fred','description','group','source']]\n",
    "info_allvar=info_allvar.rename(columns={'fred':'id'})\n",
    "\n",
    "## caveat: the most longest series should be the first component of each list\n",
    "var_stock=list(info_allvar.loc[info_allvar.description.isin(['stock market, daily'])]['id'])\n",
    "var_other=list(info_allvar.loc[info_allvar.description.isin(['banking','CPI','PCE','PPI','housing'])]['id'])\n",
    "var_all=list(info_allvar.id)\n",
    "len(var_other), len(var_stock), len(var_all)"
   ]
  },
  {
   "cell_type": "code",
   "execution_count": 6,
   "id": "f57d4434",
   "metadata": {},
   "outputs": [],
   "source": [
    "#api_key='1bcb66688766335e858be86bd8e202ba'\n",
    "#var_stock=['NASDAQCOM','WILL5000IND','WILL5000INDFC','WILL5000PR','WILL5000PRFC','WILLLRGCAP','WILLLRGCAPGR','WILLLRGCAPVAL','WILLMICROCAP','WILLMIDCAP','WILLMIDCAPGR','WILLMIDCAPVAL','WILLREITIND','WILLRESIND','WILLSMLCAP','WILLSMLCAPGR','WILLSMLCAPVAL']\n",
    "start_date='1950-01-01'\n",
    "freq='m'\n",
    "agg='avg'\n",
    "drop=True\n",
    "\n",
    "stock_df, stock_info, filter_stock_df = get_data(var_stock, start_date=start_date, drop=drop, freq=freq, agg=agg)"
   ]
  },
  {
   "cell_type": "code",
   "execution_count": 7,
   "id": "734edbd4",
   "metadata": {},
   "outputs": [],
   "source": [
    "#api_key='1bcb66688766335e858be86bd8e202ba'\n",
    "#var_others=['CPIAPPNS','CPIAUCNS','CPIEDUNS','CPIFABNS','CPIHOSNS','CPIMEDNS','CPIOGSNS','CPIRECNS','CPITRNNS','DFXARG3M086SBEA','DGDSRG3M086SBEA','DNRGRG3M086SBEA','DPCMRG3M086SBEA','DPCXRG3M086SBEA','PCEPILFE','WPU03T15M05','WPU057','WPU061','WPU071','WPU081','WPU101','WPU102','WPU114','WPU117','WPU1178','WPU142','ALLACBM027NBOG','AOLACBM027NBOG','BUSLOANSNSA','CASACBM027NBOG','CONSUMERNSA','CREACBM027NBOG','H8B3053NCBDM','H8B3092NCBDM','H8B3094NCBDM','H8B3095NCBDM','INVESTNSA','LCBACBM027NBOG','LOANINVNSA','LOANSNSA','NDFACBM027NBOG','RALACBM027NBOG','REALLNNSA','RREACBM027NBOG','TLAACBM027NBOG','TLBACBM027NBOG']\n",
    "# start_date='1950-01-01'\n",
    "# freq='m'\n",
    "# agg='avg'\n",
    "# drop=True\n",
    "\n",
    "other_df, other_info, filter_other_df = get_data(var_other, start_date=start_date, drop=drop)"
   ]
  },
  {
   "cell_type": "code",
   "execution_count": 8,
   "id": "3102a9f3",
   "metadata": {},
   "outputs": [],
   "source": [
    "#var_all=['RPI','W875RX1','DPCERA3M086SBEA','CMRMTSPLx','RETAILx','INDPRO','IPFPNSS','IPFINAL','IPCONGD','IPDCONGD','IPNCONGD','IPBUSEQ','IPMAT','IPDMAT','IPNMAT','IPMANSICS','IPB51222S','IPFUELS','CUMFNS','HWI','HWIURATIO','CLF16OV','CE16OV','UNRATE','UEMPMEAN','UEMPLT5','UEMP5TO14','UEMP15OV','UEMP15T26','UEMP27OV','CLAIMSx','PAYEMS','USGOOD','CES1021000001','USCONS','MANEMP','DMANEMP','NDMANEMP','SRVPRD','USTPU','USWTRADE','USTRADE','USFIRE','USGOVT','CES0600000007','AWOTMAN','AWHMAN','HOUST','HOUSTNE','HOUSTMW','HOUSTS','HOUSTW','PERMIT','PERMITNE','PERMITMW','PERMITS','PERMITW','ACOGNO','AMDMNOx','ANDENOx','AMDMUOx','BUSINVx','ISRATIOx','M1SL','M2SL','M2REAL','BOGMBASE','TOTRESNS','NONBORRES','BUSLOANS','REALLN','NONREVSL','CONSPI','S&P 500','S&P: indust','S&P div yield','S&P PE ratio','FEDFUNDS','CP3Mx','TB3MS','TB6MS','GS1','GS5','GS10','AAA','BAA','COMPAPFFx','TB3SMFFM','TB6SMFFM','T1YFFM','T5YFFM','T10YFFM','AAAFFM','BAAFFM','TWEXAFEGSMTHx','EXSZUSx','EXJPUSx','EXUSUKx','EXCAUSx','WPSFD49207','WPSFD49502','WPSID61','WPSID62','OILPRICEx','PPICMM','CPIAUCSL','CPIAPPSL','CPITRNSL','CPIMEDSL','CUSR0000SAC','CUSR0000SAD','CUSR0000SAS','CPIULFSL','CUSR0000SA0L2','CUSR0000SA0L5','PCEPI','DDURRG3M086SBEA','DNDGRG3M086SBEA','DSERRG3M086SBEA','CES0600000008','CES2000000008','CES3000000008','UMCSENTx','DTCOLNVHFNM','DTCTHFNM','INVEST','VIXCLSx','EPU','CLI_MA','CLI_N','CLI_T','CLI_AC','BCI','CCI','GDP_RTT','GDP_N','GDP_T','BS_PRO','BS_OB','BS_OI','BS_EX','BS_EM','BS_CU','BSI','CS_ECON','CSI','CS_INF','RECESSION','ALLACBM027NBOG','AOLACBM027NBOG','BUSLOANSNSA','CASACBM027NBOG','CONSUMERNSA','CREACBM027NBOG','H8B3053NCBDM','H8B3092NCBDM','H8B3094NCBDM','H8B3095NCBDM','INVESTNSA','LCBACBM027NBOG','LOANINVNSA','LOANSNSA','NDFACBM027NBOG','RALACBM027NBOG','REALLNNSA','RREACBM027NBOG','TLAACBM027NBOG','TLBACBM027NBOG','CPIAPPNS','CPIAUCNS','CPIEDUNS','CPIFABNS','CPIHOSNS','CPIMEDNS','CPIOGSNS','CPIRECNS','CPITRNNS','DFXARG3M086SBEA','DGDSRG3M086SBEA','DNRGRG3M086SBEA','DPCMRG3M086SBEA','DPCXRG3M086SBEA','PCEPILFE','WPU03T15M05','WPU057','WPU061','WPU071','WPU081','WPU101','WPU102','WPU114','WPU117','WPU1178','WPU142','NASDAQCOM','WILL5000IND','WILL5000INDFC','WILL5000PR','WILL5000PRFC','WILLLRGCAP','WILLLRGCAPGR','WILLLRGCAPVAL','WILLMICROCAP','WILLMIDCAP','WILLMIDCAPGR','WILLMIDCAPVAL','WILLREITIND','WILLRESIND','WILLSMLCAP','WILLSMLCAPGR','WILLSMLCAPVAL']\n",
    "info=get_var_info(var_all)\n",
    "\n",
    "## strangely, id=IPB51222S fail to get information in the first trial, so do again to catch it\n",
    "out_var=[x for x in var_all if x not in list(info.id)]\n",
    "info_out=get_var_info(out_var)\n",
    "\n",
    "info=pd.concat([info, info_out], ignore_index=True, sort=False) #, ignore_index=True, sort=False"
   ]
  },
  {
   "cell_type": "code",
   "execution_count": 9,
   "id": "51f84dfc",
   "metadata": {},
   "outputs": [
    {
     "name": "stdout",
     "output_type": "stream",
     "text": [
      "True\n",
      "True\n"
     ]
    }
   ],
   "source": [
    "print(len(list(stock_df.columns)[1:])==len(var_stock))\n",
    "print(len(list(other_df.columns)[1:])==len(var_other))"
   ]
  },
  {
   "cell_type": "code",
   "execution_count": 10,
   "id": "b0340aca",
   "metadata": {
    "scrolled": true
   },
   "outputs": [],
   "source": [
    "## save the information and data downloaded from FRED\n",
    "info.to_csv (syspath+'/info.csv', index = False, header=True)\n",
    "stock_df.to_csv (syspath+'/stock_df.csv', index = False, header=True)\n",
    "other_df.to_csv (syspath+'/other_df.csv', index = False, header=True)"
   ]
  },
  {
   "cell_type": "markdown",
   "id": "9b08c2bc",
   "metadata": {},
   "source": [
    "##  Generating full data and full metadata file\n",
    "\n",
    "##### explanation\n",
    "\n",
    "- metadata(=full_info): merge metadata of FRED-MD and one from FRED API into one dataframe and calculating the missing values of start, end date of each feature. \n",
    " - we will use this metadata to filter the series with small observations\n",
    " \n",
    " \n",
    "- data(=full_data): merge all candidate variables into one data file by expanding the fred-md data(+OECE, NBER, EPU) with newly downloaded additional features such as ones about banking, cpi, ppi, pce, and stock market."
   ]
  },
  {
   "cell_type": "code",
   "execution_count": 11,
   "id": "9e5d156c",
   "metadata": {},
   "outputs": [],
   "source": [
    "info_from_fred=pd.read_csv(syspath+'/info.csv')"
   ]
  },
  {
   "cell_type": "code",
   "execution_count": 12,
   "id": "b16efd6e",
   "metadata": {},
   "outputs": [
    {
     "data": {
      "text/plain": [
       "(156, 223)"
      ]
     },
     "execution_count": 12,
     "metadata": {},
     "output_type": "execute_result"
    }
   ],
   "source": [
    "len(info_from_fred), len(var_all)\n",
    "# info_from_fred.columns\n",
    "# info_allvar.head()\n",
    "# info_from_fred.head()"
   ]
  },
  {
   "cell_type": "code",
   "execution_count": 13,
   "id": "8bc44e0a",
   "metadata": {},
   "outputs": [
    {
     "data": {
      "text/plain": [
       "67"
      ]
     },
     "execution_count": 13,
     "metadata": {},
     "output_type": "execute_result"
    }
   ],
   "source": [
    "info_all=info_allvar.merge(info_from_fred, how='left', left_on='id', right_on='id')\n",
    "\n",
    "## tcode, group, source for all variable & \n",
    "## title>description\n",
    "info_all.title=info_all.title.fillna(info_all.description)\n",
    "info_all=info_all.drop(columns=['description'])\n",
    "\n",
    "## number of missing information for variables\n",
    "len(info_all.loc[info_all.observation_start.isna()])\n",
    "#info_all.loc[info_all.observation_start.isna()]"
   ]
  },
  {
   "cell_type": "code",
   "execution_count": 14,
   "id": "9d5dcc64",
   "metadata": {},
   "outputs": [],
   "source": [
    "data=pd.read_csv(syspath+'/DATA.csv', header=0, skiprows=[1])\n",
    "stock_data=pd.read_csv(syspath+'/stock_df.csv')\n",
    "other_data=pd.read_csv(syspath+'/other_df.csv') ## 수정 필요 가장 긴 시리즈를 왼쪽에 둬야 함."
   ]
  },
  {
   "cell_type": "code",
   "execution_count": 15,
   "id": "f707a2d3",
   "metadata": {},
   "outputs": [
    {
     "data": {
      "text/plain": [
       "(150, 18, 58)"
      ]
     },
     "execution_count": 15,
     "metadata": {},
     "output_type": "execute_result"
    }
   ],
   "source": [
    "data2=data.merge(other_data, \n",
    "                 how='left', left_on='sasdate', right_on='date')\n",
    "\n",
    "full_data=data2.merge(stock_data, \n",
    "                 how='left', left_on='sasdate', right_on='date'\n",
    "                     ).drop(columns=['date_x','date_y'])\n",
    "\n",
    "full_data=full_data.rename(columns={'sasdate':'date'})\n",
    "full_data=full_data.set_index('date')\n",
    "full_data.index=pd.to_datetime(full_data.index)   ## revised!\n",
    "\n",
    "len(data.columns), len(stock_data.columns), len(other_data.columns)"
   ]
  },
  {
   "cell_type": "code",
   "execution_count": null,
   "id": "65ba92e8",
   "metadata": {},
   "outputs": [],
   "source": []
  },
  {
   "attachments": {
    "image-2.png": {
     "image/png": "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"
    },
    "image-3.png": {
     "image/png": "iVBORw0KGgoAAAANSUhEUgAABLoAAAFxCAYAAAB0j8GwAAAAAXNSR0IArs4c6QAAAARnQU1BAACxjwv8YQUAAAAJcEhZcwAAFxEAABcRAcom8z8AAHGpSURBVHhe7d3/+11Vfef9+1+aH8ZeV++ZtteMbbW96pdOb2fSdNJ4FW8mU/SeCQiBAIGEVBQQQaWaKppJBVHxG5qiEotWKaAgBAIqiAhGCJiAgRJSY8+d1+GsT9ZZ+7X2t7P3+Zyzz/NxXe8Lcj7nrLPO2mt/e++11/6/fvSjH73ndIwIgiAIgiAIgiAIgiAIYlnjxz/+8SeU6LJ/JAiCIAiCIAiCIAiCIIhlirVEFwAAAAAAALCMSHQBAAAAAABgEEh0AQAAAAAAYBBIdAEAAAAAAGAQSHQBAAAAAABgEEh0AQAAAAAAYBBIdAEAAAAAAGAQSHQBAAAAAABgEEh0AQAAAAAAYBBIdAEAAAAAAGAQSHQBAAAAAABgEEh0AQAAAAAAYBBIdAEAAAAAAGAQSHQBAAAAAABgEEh0AQAAAAAAYBBIdAEAAAAAAGAQOk90nTp1arRz587Rhg0bRgcOHJi8Ou3kyZOjLVu2jN8TIn7vwYMHp/4WYtOmTaNjx45N3gUAAAAAAACc0WmiK01QuUTX4cOHR5s3bx7t3bt38spotH///qn3q5yNGzeODh06NP43AAAAAAAAUKWzRFecwAoJL5fo2rNnz2jr1q2jEydOTF45MwosvE6iCwAAAAAAAE11luiK5RJd4ZbFeDRXoFFdIblFogsAAAAAAABNzTXRFUZ9uZFe8WdIdAEAAAAAAKCpuSa6cq9LmujS/8fRdeIr/F6CIAiCIAiCIAiCIAhivtGXUP5CJbocze1V9vemwu8lCIIgCIIgCIIgCIIg5ht9CeUv1K2LTpjfa/fu3ZNXAAAAAAAAgDPWJdFVNRm9kz6ZEQAAAAAAAIjNNdGVS1bVSWIxogsAAAAAAABl5prokvC3eFRXPJorJL3iz4bXNm3aNDp27NjkVQAAAAAAAOCMzhJd4bZEJbHSSEdqhWRXiPSWxfTvCm5ZBAAAAAAAQJnOEl0AAAAAAADAeiLRBQAAAAAAgEEg0QUAAAAAAIBBINEFAAAAAACAQSDRBWCp/ealX45e+fr1oxeu+eNxvPz5HaPfvHB48lcAAAAAwCoh0QVgKf3biePjBNexy39rdPSSf1eIccLrpV9O3g0AAAAAWAUkugAsHSW5fnXDf7MJrjheumnr5BMAAAAAgFVAogvAUqmb5ArBbYwAAAAAsDpIdAFYGk2TXIpPXr5r9BdXfH901c2PjZ49+uqkJPTtpVd+PfrA5x4ft/3rt35nHCwHAAAAAH0j0QVgafzL/qttMkvzdJ246+/Hc3alf7t/+5+M3rj1zrVkixItR4+fnJSIPijJdfY1P1hrcxdKgp389W8mnwAAAACAbqx8ouvffn1y+oltn9nGBNbAAtJ66Sae12v/+uPvrr0n/bvio9u2TyVZNLKIUUX9qJPkCnHhnkOTTwEAAABAN1Y+0aXEVnpSrIQX8/oAiyN3y2Kc5BKN1PrH7RsL73v2kn8/+qvzPj2VZCHZ1b0mSa4Q33mICwsAAAAAurPSia5XD95eOCEOQbILWAxl83LpdsXYDV98YrTlvL+37717+1sLSRaSXd1S+6dtXBVaBk8deWVSAgAAAADMZmUTXbrF6YX3vt6eEIcg2QWsv9y8XFp/detxoNFcf3T+XePkyY3bzref2XDelwqJlnde9+CkBMxC8229ZfvdhfbVMrn30WPj99x8x9OFv4dg7jQAAAAAXVjZRFfu5DmNl27aOvkEgHmrMy9XEI8m0uTzD21/Q+FzV1187VRyJQS3z81Oyay0XeMkV6DEYvq+EIzuAgAAADCrlU10Hdv9O4WT4FwwqguYv7rzckk8miuEJqBPP/vM32+3o440rxRmoxFZabvqyYopJbLcMohDCS+Vx22lAAAAAJpa2URXegIcTp5dAuzV+780+RSAeWgyL5e4uaG2X7qv8FndjqzRW+l7FYzqas8lGhUPPP7i5B3THv/5y6O3X3lf4f0uSHrlaT35ly/vHvfruI+//PkdXKABAADAyiLRNYlwi+Ir3/xI4W86aQAwH2VJrnRersCNEPrCPz5pb3s8+cg37ZMBmZi+PZdofNuOeyd/zfvavUcqR3fFoRFimgsMr93Wm1tPQigJ5tYXAAAAYMhIdE0ijBL51ye+V/ibrpBjeb30yq/HJ8hKZDA6ZPHl5s9ztyyKRgelCRElT5QQOf5//rpQjpIDuVFdJLuay43muvVb9UYUNRndpbhwz6HJJ1fXK1+/3iZxXWgdAAAAAFYJia5J/PoXPxy/rqvfuVEgWD5KcrnROwpGhyyeJpPPB0qopMt2x42Pjv+m9TYtS6HXc5Oih8+injCa68/O/Yfx0y5/uP31ox9f8vrR8c9d2uj2OY3uUqIxXR4uVvk2UyW5XJ8uC/ZfAAAAWCUkuk6HboeK5UaBYLmUJblCMDpksbz8mW2Fda8sySVKTKXLNR5N5G7v+tWeTaWTojOqq74/3/7NcYLr2Uv+faGdFW1un6tKeq3qyLtcIrgq2H8BALqQzg05nhfy9LGb9k8AsEhWNtH14nVvHW+gNfl8ehJdNgoEy8PNG+SCScgXw6sHb7frnZt8PsjdNqfb4YLc+qzRRnqfS3bdfMfTk0+jzE+eeHZ0//Y/se0bxyy3z2lZpMtHsYrJrtxtvbpYE/Zjr3z7RvsevQ4AQBva/8QPPknj6Sv+cHTurq/YfTVThgBYDyub6KqSGwWC5ZBLgOSC2xjXl64E6mQ9Xedyk88HdSdBd+tzeJrqbd99plCGRgIOtT+orXX7W3rAOr4q2+Bpfbqq+9T7/stUGWUxy4UCbjOd3FZvngqsk490HdG+Kn2fRoKFW/QBYFbx/Kfptlmv7d73o/GxGJZfk1vmP3/hlvFUBmmfCP2CpBeAeSHRlVE2CgSLLyRA9m3bOp4zSMvuhxe/fnT/Nedkd8Dcxrh+ciNVQjLKaTIJetnTVFVOWoZi7+0/G/99SOpOYj5OeJXchlD2ZMxcKJHWdvvJbaaj8YitQptmEsFKaLnlzMUaAF3QflMXhNw2OY5VHHk7NNpvN71lXsfdG877ku0TIZTwIhEKoE8kukqUjQLB4tJIHJ0Ua96gdPkpfrLj97M7YG5jnL/cSJWq291yo7ncSKzc01RDkkBJzrQsJdHiWyCXXdNJzNU+p57/6eTTZ5QluTRP19P/cGP29rlZkl2rfpupko9pe2qelByX3FVwsQZAWxrF9bGvPtloxDzJruWkfX3di2Mu7t7+Vtsf4qBvAOgTia4SZaNAsLjuffTYeNRWbnJsxeMlyS5uY5wvN1JFia+qiU1d0sON5pJxMs0crGkdl0eePF4oS6Fb5oZAbdn2YDUe3VWV5Lr80k+M3yfu9jnFLKOKcreZDl1u+SmBm6M+H+aijIO5ugA0pZE3SnApMZFug+sECY3lon1O1ahtJbKuvODK0UPb32D/rrjw3TfY/hAHfQNAX0h0lagaBYLFpHl7dMtiuuzS+PnuP8wmu7iNcX6ajlQRje5Jl5kSX2UJSvc0VSUPwrxFOohPy1Qs+wFYm9sMm4aSXOe9++/Go+wCjQZzI/UUbefryt1mOvSRmO7W3vRpwc6Jez9b+Jz6Avuw2ZXNT6TQ67m5aOLPlr0PWG9tRnDlgoTG4qsziku3Jb5x651Ty3bX+VePnr74t+37f7zngtGWK7459f406BsA+kCiq0TVKBAsnm/e/1zlaK44vrvrLLvTVXAbY//ajFQRjdxKl1fVxOS/fupg4XsUYYSRkmRvv/K+QrnLfGtcWZIrncRct2XnElNlEZJcaivNpRUbzxVlypzlFkZ3m+mQR3Xl1pGyp5EG+mz6OQX7sHaqkluzBnPWYJGov9eZh0tTBmgkfZC7zVxBQmNx1bkolpt7S33g0De+bD+jCPv8r917JNs3VunhMgDmg0RXhapRIFgcOkHYvOPO0f3b/6SwzDT6IXcSv+2qb9idrmIRTjx08KERTjpQUH3132M3nT/a98UHxgeNimV9ulHbkSou2ZG7bTGWm6cqJF2G9gTG3CT/ZZOYu9vdchEnuc694aFJKdNyD/Zom+xSAjpdRoqhJqZz60jdUVnsw7pR96R/1iARgEWQ9nddQNS8p0p0KG678KzRhgtuH+933f6RZNdyqUpyaV///gt2FUZyaaRf3AdyUxYowj6/rG/QLwB0iURXQskCPW1NJ226DefoD++zG2ztENZLmvhQ6P9f/sy28RX8VfWxWx+ySS6FRj/kRpdoJItG7bidrqLvgzL1M32H++43n/uN7G/Sweam826der/K0YgDHaQuurYjVTRqL/7NIXTwVEXJgbJ5i7T+u7KX8QmMufbVa5oXrUyd0V1xkkuh5ZKTO/htm+xyCYehzKeWcsuhzmiuoGokI6ppuzCPJFcIEgFYTyHJFSe33DbkyHvfaB9YEpQlNIa6vV4UR595ZvTPf7tr9Nilv7+2vEKCUstV25hwgfSlF46NHv+b/AWun1z8O1P7+hDpSD6pSphVJbtW5eEywKLI5hQ0P2+L4/NFQ6Ir4uYhGB9wfvH9UxvqEOORCmli7PS/+1R3J7LsdJKu0Tfxihd+n1v5Xn3hudEDl7xp6r1rn4lGP5Q9YEAHXvGyj6OvE4/cvFCKsiRXHJ+/cMv4wCX+7DLMMdZmpIrWLx1cxb9Vodfqys1bFAzhCYxaf9x2ok6SK1Bi2I0GUmgS2ned94mp9ikb9VY2X1ebhEtuVNfQkgPazqXtpWVYdzRXUDWSEZ5O+Luan6hpkOzCelCC5PNXbM8mt1zEDyxJlSW7mB6ie0paKcFVd/qOsqg7isspu1gWzlNW9eEywKKoyikoyrbvy4BE10RZwkEb+Sd2TSdcFLpSkt6r3ufBaZ0OqVjmZJd+Y93HGWvl0wm03v/Ly15n33M0ObEve8BA1a0pXS9bJW1yJ1B1k1whdFCa9sVFP4hsM1JFyeT4N4bQvA91aYOdfq8iTJC+yE9gVHIwTf42iSYjgXLciLo6bZMbUaloMzm9m09taCdO7rbPNolBbd+OXvuWQlkfvGDHeLs2y63P+pz2nypn1rLaGF8U+eZHRsdvfMd4/ejqgKxqfxBCff+Bx1+cfOoMbZPUHu4zIfRZjWBg1EveePlOLnop3IUuzE7HXrMkSMqOO3PJrqElNdSG6ciI0Dbz6LdKcj18+ZunvrttpCO2Q+S2d07ZPn98LnPspUL5ChKgwHzoTjC3froYb8eW8M4xEl2nlSUcQugRuW7BuwRD1wmRIDffjouyg45FVTeRVzeev/R1hdErOuFzSbR4cuayyTK7WrZlJ1EandUkyRXi9ov+slCWbmNcxPmldACU1l8HRGUjVfQ73HJpM3rNjVSK15lc4ns9R1jkRuXUjSbzOpVxyUa9VkfuwFfrfVPq22k9tNyGxI1A1X6gKbXL1Re+t1BWuv+qm6iKk1tx+8dRt6y2chdFtB6X3U5VR1WSS8cL6S07s2DUS1HVRa9lPeiuUkjszeE3qvwnrvxT285NIt6HptSPXf8eyq1qdY9f+xod0WeSq0lyK1WW7NL+bdUeLgMsilcP3m7Xy6ro4hhrnkh0nZYbJZKGbtdxC12vp+/tOtmlHWOdUU5xvHTT1smnF1N8QOfqP0toR/3Db3198k3T6kzOXHbiMetV9txJlEZxaT6M3BVVva5h5A9tf4P9u8I9DWcRb2PUyKK07lX9VSeW6W/TMmpzIl01QbqSaov0BMY2638c+mzdWxar6DbttF2ajKjLtX2YJ60ud9tDm76u7X+csOk7QdOE1om0nXRw0kRI2iqBnpalcBdr4nbQkzRnedKgPpc+jXNWdU4qNbKiaWK3TgLPzUvThVUZ9VKHtnd1L3ot20G3U+dYSH/rOuml5Mi3P7hzdCRzzJGGLpYoOVH2wJKwD3V07JT2byWN1feXWdOLtGVt1EYfSa5ZklupXLJLxyXf+/Y9hT6hYFTX+qt7jjbeNjHSdqlo2Wp77pZn3egrad+1lU906cDWjeZyB5ya+Pupi3/bLnCN+Erf3+Wjct3wwnDyWnbFZBE3PFVXamcNTZx5+aWfmHxbUd3Jmbu+yh52Gk/t+kP7/WWRJipy8x/oVqSu6tsnl2wsu60ulxzUCXhbuQnSQz9YlPkjmh5Ep6GdWVdJrlkeBBBzba8+Hiebq+g703pofW0iJIFyoYTHej3cYTz61KzjTbbp6f5Noz7T8hTuYk3X0dUTbJusD9rO1KHlq75QNrJbf6ual2ZWQx/1UkfbY4NlOeiOtTkW0kll28RenMitOz3Cc7v/03jfnCaN68zBlNI2261jy57MbXK3RYhZlqNomxUuQOzbVrwgolDS6p59Hx69euLEeN+am3MzxIM7/2z06HfunHxDt7LH3ae35e7YbtYLyminbnIrF8u4HV5EZRfd9NqsF2Nz2yxt16XOA6kUuW39Iln5RJcbzaUrtjqYdbew/dV5n7bJLk2EHr8vRBejunLDC+PEQC7Z1XSURF90QOfmLigLHfylB1hlK18Y8aQ51XRCUkYbcldGusLmkl3a0NRdtrMm9vQ5l6hwk6rrql46cahikQ4k9VvSeitySY5ckksxyxVHHWTm+tJ41NHpnYj7znkmDWdJcinB5U5Q2lJ7zPoggGC8vTLrQ5P5p7SNdidNdddL/Z6yxEYc6zEq0q0nWqZ1ufWm6cWarkPbzVlGd7VZH9z8b2UHkS7UT/oYxeUMddRLHbn9ct1YhoPuYJZtu6LuCWWcEAn9qSrJpWOpO/ZcN06QlMkddypyy0IPb4r7dohlHcGjZdD22E7RJjEQb9s1GlfLKy1Xrz184GuTTyyG3Pr94O3FEcWK9ZwqYihmTVy1iqv/aHTrF+5ae0jbEJZjrh317/E63MF+p+lxidq3jdxF1PTCYJ3kuGLR97srnejKnejESRIdXKb3kOfm6/roxZdPvU8x65VYrVxueKFeS09gq54mt170G5oe0OWSO+JWvvgpcCFRWUZt54bfh2x2LHeVvU6yq81vj6NsNI7Kdp+59+Pvs/VdhFEBavdcf87J3VrcJsGSyh2ohw33es8fkbvq4tb/vuWWQ5PbFmNu/ilFkx2mS4DWPWHSFbH0s2Ux7xMxHTylbaOLBXWUJYdvuumA7fM68XXvrxNaF3UC69YXF21Hd+XWB+0vcgfyYV0uO4jUif8t295Z+aS58UFtz3Mm5Ua9DH2Eg9o0lzDQ60raa/+cW84hwvJeZLMmuUJU/Vb1+XQ7UJXkCiPi645cbJrsUrluWoA6x1OLqOxui6DJ6Ij4pNklKUOUTXWxiEkuyR13a11YhYfLzNOsF9i7CPdEePXlRZkaoo4m7dgmaS1az3VsUvfCaxz6bFPuIqq2T2V113a+7S3r622lE11lo7mquFtvfrnjdeMRX3F5sx6cVg0vjOUSH+6K9jy03dCqbfV0xCpaTm60VdVorsCdaGtD5bir7Iqy5TvLTkafqzMax2Xb9dkrrrmtUNdFGBXQpD9Lbhnrt3Q1f0TZfF333PNw4bsV8zgA07J3B8davrnk5yziRIBCyYhw4pFbDrOMdMod9DYZhaqTgLRO+g1VcrdglsU8T8Ryy77OdlHKksNalrk+//Hr9trPuVBZuVv5tJ1xJy5xqD2bjO7KJULi9UF9J/27wj0huW5yy0XfB3W5US9DuDKe4xIG47Y2F3uW+aC7TpJLv1nHJ22vppedOJXd5qYR8e+48p7GxwllyS43SneWi4eLpM7dFkFZG7nQNkuJAjd/YlWy8kdf3DP51sWT2/fc+vGbCr+zzr4cRV0l0rsI7V81kjxdtsuwruuYo2k7PrnzD0ZHHq/OpZQlsZtEmzac5SJqWdK+yR0Z89R5ouvUqVOjnTt3jjZs2DA6cODA5NVpJ0+eHG3ZcnoDfvo9IdL31nnPLHRS5w4C6iZJxjstc9Dt5jppuzLnTnbS4YUxd2CkFXUWWtnHB10NHt9edwOhNmx7e5WbnLxuolJ00pjWRweNri46IXMn+gqX9FCSKy27btRN9Elu3oPnrnub7d/rOSpAB+NunSmbhN4tY/2urm8jconrULf0irhiHu1or7pEJ/VdKruapISXRm2lr2t9mPWqnBuF2uQktc2E9KqzthPp5/TaI08eLx2VNK+DM7fsy0Y9xnL7tnS9yW2f1f7P/P320ZV/O30LtPp80+Ry2RNsQ9QZ3ZU7cHfrQ25djifdb/tk2zjUTn1Ngq59mEsUth09uehcf1foeKPs2KDsoHsRH8ZTdlxUdizUJLGnEyi3z1Ko37sRQEcufV324T11lSVy3MXWNhcPF4mWpbbJ6W8tG21dtRxzEY+Mqdp2HXnvG1sdT8+TWweevuq/FPrCLBfS+jY+Lzp9nK91TzF++Mnp/dR6q3vuVTfUn+Ptkkui7zr/6uyUCCFyo7u6flBNF9oO0ojjHy47Z/T+T95rj230Wm4b3TTaHI+67XTZOWealNOAnp9f8n8XylCs18CaMp0mug4ePFiZmDp8+PBo8+bNo717905eGY32798/9f4675nVLKO5gtytN+kVmLa3jNkT3dMdVBuynNzVkjadr2xl14bd3cLRZAPRJKGTyh3MaWWsSxtuV08tV0dXOd1JW3ryqzbJ/f5w1TTMo9Wkvjm5pNrtn7qlUFdF3yfq6gN152PTTrSsP+skOK1/F22WKpuvKzeqq+92nOWqSxM6aHG/ryq6WA5a9ulvVMQnbmW0Tqb10jpapu4tmLkTsS4fMpIzy7J3t2S65HBuXxFH26H4sVlHd2l7kjtwdyMnjj/9+OjZy/6DfX8fMT7B6eHE0o3q0vZwaNR2VQmDsqvfuXlTFXUT5vNQdlyk1+tcwKi6ml6W5MqNAqr73XXkkl1af1NNLx4umqaj02Nly3GWqLvfXG+5fU86T2TVvny95NblskEIfesiORMiTW4FZQkabYfLngivyD3huc7FrnnR8U5XicLc760byknEo+bd/q/peYi20Wk9tS3Kye1Tcvtdt61fb50luuLkVEh4uaTUnj17Rlu3bh2diCa5DKPAwut13jMrt4OtO5or0EbAXZ1RdjsuV52kjaYnO9pQ6KT14I43FT73w/e8rdEK0eXKHoc2oLMeVJUdzDUdcZC79U8bA6fOkPvcLRia+0KPbY4/18Xtd7l++OKH/bwHfc7VVXZS6sKdqAbauLv1tIs2c3IH6bodyvW3PkdXaP1zByxtE8M52mbkRnJVRVfLQSMv0t+pqDMiQ33E1V8js5xcn3JXjstOxPpOcrp+WGfZ527JzO3bcqOfXIwvbijx1fJEqu3ortwJZZwICcKBeFnyo4/o4wRH61faPtrPDE1u+f7q7i9kk1tp5Jb3ojyMJ3cxStE00ZTbTymuu/Ljtn2U5Hrw0uJxoaJsH9xGLonhlkXu4qHW4UXnlkGT7YCWozv+bBPqQy4xscjcceI9FxfviFm0ET9l67KiyaCCsgS+Qq/Xmc+q6rh71v6hepaN+o+janRXLvmj37qey7pOojAdqKCo+r1Nn2itNs5NCaHJ59P3Nz0OVz9I65g71i4711bk5itvM7CmT50lumK5RFe4HTEeqRVoxNbGjRtHP/jBDyrfc+jQ7MNZ0wWmna3rWFXcqC4N0UzLb3OFqsnJTrwRynU+bVyqMuddXhWIo8sdcdn8M01lH3l8+gQwp2zIfW7OBs2LkT4NsU19c3IHl/fvu27qOxXacLXp61WaJrl04lzWH3K3pvYp90CHffuLc0H1ObrCnfzpxL5LVTuxsuhyOZSNpquTVHE7/9yycX1K2/7cNjF3ItZnstiNctP2s4p+g5ZLWle9llvfm66zaYyTX8nIXv2/9iH6m/uMQge7uflnFGsH+M88Y/dFei1ODrgD8TbJrrJRxmUJBkXXB3daZu7EYpFGu6j/pKN3XZ/IySX0X9j3vxtvm6684MpCOUc/+F/X/eRf2zD3GxVpP64r1xfdSaT60IN/d3nhvQqXLO6CS6Drt6reqdzFw0Ue1aXf4X5fnT4fS7dZOmnWMkzLLou2fWi95Y5Z09vbNLJ1UeS2V3Fo+1fnuCVclIl/ay7KkkBV+/BZ+0fd40QdZ4QEjdaPslt0y0Y6rcforjrHQW6gQoiq0Wx1n2itc8iyxFUXiS53YTl3sSN3rh2HGyWstlwkc010hVFf6esSPrNv377K97i/NZUurLa3o+igOF3IT1z2B4WkhjYUTdgd6ekDG0c7y/i7FK7zffCCHeO/aaPpRiTMetKTiy5GcQXaALqDf73WdoRJ7gpNbmeVG+mhHfSR3f+pUM4TF/9uoT/MUt8cOzrj9E5OG+H4uxVdHzw07Tt1Dga0Tqb17uO2xZgOZFx9f3prMWGo9agPuYOp3M6ojbKDF+3cykbf9NF3cydudUZkqK6ujvqNqff+3d3jJ1XpQCskWz52012Tv3puHrCm2/MmtK1M26HOgUPdWzId3UpTlpjqM8JySA98NQrFjU5OD9zLThjqJLua7J/KDuDrnuA04eaL67PvNVG1zVd7VM1h5kY/H7vy9aNzr/5W4XdXhfa/aVmK57/64cm3zZfap+yiYdzv1Id1HKd9Svq79JpO/tJjtqP3fd2WG59Eajt43w9+Yusw6wlwmfH23Hxn7gKiW39zx6mLoMmoiBx33B7HtZd+YPT8zv9Y+J44ujy2Xg9uW5omE3RXwiJocoxbtS9IE5x1I00CVW6DO+gfZckO/Ybc6CMpu0W3LNml0Po/j6cz6ni7rA3dKC5FnNgLvn/rPjt3VdlvVTl15xyeNdGVO7fQ9jqVO9dOIzewZlFGU8tcE11liarwtw984AOV73F/aypdWB/53ANrjdEoHnl4dPSy1xUW8ke3bS98x2e+dtCXYeKpL11bKPOZPf9v4X3fe+DR0Rvf/d3Cd7mrm0p+hZX1v+7459E/f//RtXJ+/ND9o+euzWfg9Ruf/dBG/7dcnP6MfofaKK5z2/jBwUdHm/+mePKt3/+FOx6yn6kVp+v33FXFk7wn93/Uv/90HPjuodGbLpzeCOSeZpTeyjpzfTPx+D9/zfbFRy5/09T3hzroN7hy2sTPP7W98L0unt/9e7X6xKe+6kfNfeXObvpSWTzzt5uLdT/drmefX5zzrMk6XTdcW6rdulqPFLs/4edM+tPtd40efuSH4/eof7zr2ukRQu947z29LYMnb/tQ4Xc/d+UfjB6//zv2/SFU33RdVExt00+33ff/9mI7EbPiF5/836PHHrx3qtwQ2samZSv6WPYKu+3/+F/b98bh2kDLz723LLTd++Wu+c1xFUdIepU9DXG8/ThdT+0P3rfvfrv/C6G/3bzvy6Nf3FBcp+tui1w89fn3FcpT1OmvTUJ9zP2uvvpe3ag8XojiF/vOt23803/8jH3/jTt3299cJw5c9OeF8o6cXufvP3B74fv7DG1LytpH2/jv33dw3H91LOZ+S53QbTGufL0ejjPsvvn0/kzt7+reVTz92d3F7z0dbv3I9fP0OHVRQsfi6e8K26U6od+U227pde27tF/TMZ07Hpll27VIof1a+tuUVEjb5Nv3PGI/P68o297l9pVHrn+bLUvrfPzbdN4Q7+v0/7ddeFZhZFscWi92feibo2euecvUd65FdO6l4xe3ndG/L/nofaXrV1k/1bFinfMY9eFcG917Sf3b+urUtyq0HLU/0n7a1SeNdBSXfnNYN135ip/eUUyCK9JkV52y0jj3+u+tfT6EzpXce11kzy2S91Wda+vcYOPOM/3J7odO90Et+7Tssv6oxGYfwnevfKJrlpN+tyPSwVU6kkYnie7zLursSHOdUZG7uhkn4NSxtNGoOmjVihAfFOV2vnFoI//Et78wVd9Zouy3tk5SRuEOynTy694bIj44UwLRjRzQgXdcV0UX9c1F7uDSDZ1t0h+rwu7IWh5Ma0OonUBaX73m3t91/OQ7Xyn+ltPx4OV/WqiT+qQrY5ZwbdnkILoqcomhsBNzn5lH6OQw/d2KOskDl7iLl80Tey+yZccx/p7v/eNUuSHShF9afpehA7G0bkqsuPeG0P4rrZ+Wp9Yl9/6qqLONX4/QgWd6ZTUXdQ/E24b2ca6OuX6UO8jWv7WvyfVxt9/rctvdNO6/++7RY7vfPPUbqkJ9aaqc0ydgOq5I3/fkpcXRz3GUJdr3fvnB0f++8KZCmYrvX/qnM50g1Q0t459/+rLxvs/VQ6Hlfc3/uTd7Atkk9Nj+3IjFb3/6k+M+5erS5f4kG6eXsbuAmNuWadm636iTO/f+9Yrxfsq0qTupS6MqOd/3NmvRwl0wuH3X/1dol/d/6n77+XlF7kKutmFliRwlPeJy0sSRRpe7zymUGNH6HbeDQiOd9bncRTu9nrvFLhdKIMXHCmX9VK81TdCUtdGVl32k8B11Q+ew2274fvY4R+uqtsfpPrcq4lFcbX5v02ODuqHllLaB9nvuvWnktltN8grpuesHP/3aSFzlOlx/DMneXHLLRR9CfVf61kUNHZxFbp4nNwldnaHYdYYXVt16pOGUbqJLdcY4Aafhoc9//r2F9ylUh1nm1VId04kWc8Pwq+SGz2rZ5YbNNuFuQdXw46rfHubr0o4l/bwOQNOrMvr9XdQ3R/V1w8GfvuIP7dDZLm4NUL9Mv2+W2yJmuQWrK7nbWV0bdjmXiG3L3b/T6Twqbp4qDVGuO3y6T20npndPX1ToNmO13TMNnsLnnqI3z3lk3C3IVfM/aQh9Wreunw65nrc3KuoewFfdTtGVsrnl2oZ7ymWu7/V9W5dui1mbf+vqPxrde+3W0S2XXWQPaOtE3IdzE9Cno58VTbZN2g78/cX+YTDv2nV7r21W59YmteVNny8mzWeJOrfnxqHbmbrcn5TJzXnpvj83JYSi777eRNv5M6vmOgrH7avEzdP15DUbCm2jduuDtrVhPkmFe9jK0Z8/OXp+RzFBEB/jjm/VNfsC9fUgvV1R5wZ1tqUa4RzOI/RfNy1NiLr7yFyE2wXL+qn2rW3k2kjtfue3DmbX/aah33Ddpx4YPf/la+15dFXEbdjktsJY1bFB26dZ69w5/b11z4ty2610W9z0XDv0FQ2iSctXlN2e6qIP65LoKpto/o477qh8TxeT0Yen0Wnl6uIEr+6JcZ1O6e7/T3ekdTpjLgGnDWV4v+p35NLyjXgTLrmVi7pJL/3d3Svc5cm5Vna3UdTDBsqEgxftjNLP6vabuL76vfM4YMtN8vnYpb/fqj9W6WK+ipjb4bmn4vVJ/cElDD/6ng8W6qZkZ1e6bktnPeY+q2uWiendQyI0F92/PHTAllcW7ulZ7uCvy2Uv4+2Q+f1Vcx25uZzaHpDWpQPX3FPDtL8qu0jSNGlW9wC+7YFpW7mD91lC7ZL2ddf3+kz86yC8KmkTR1g+SrqUTcqrA3wdl7h97e0X/WXhN7bZxz/+s2OjQxcX66A5SrveB08lA5Pvi0O/V+vDs88dt8cys0ZunhQXqse8qB+5OuSOq9bj4R9N6Pe4vptr07rHw/r7qiW5RPu1tC2PXvE7to26nKtJ623p/HmfvWR046e+lU3s67Wb/+6zU3XKHXdrrqJ0PjaNyipLWLWJuvvIWWLWfpprI20/n3j0MXsc0zRmadtwq6K20bNeLKs6NtBvrjquS2lbkv7eusd5ri7pdku/121/y/bD4UKcRr+5fX+YG7xu9GGuia5Tp06Ndu7cOdq6devoxIkTk1enX3/ppZcq3xO/vihyJ8bpQlZip4o7wFQ2NmjSGXMJOF05zQ1/1ca/TZJLG313QF4n0kkWRQcJuUkby1a8ttxJm9pCG6wyOvj5pbni867zPrFW13mMMIjZielPRzrKsE5/rOJG4bQ9mHYjc9R+XR7k1OWeqPrEx7cV6qfo6uSpy7Z0tM64+jeZ0LJvuQOEqskt3aTxSnz8+Ib/VSjr9ovfMTp6162lByLxCBSZx8gabXfTelSNFvjm/c/ZemldWgZVSS9ts8K2NBfrsY0N+kh2paNelLBNf3MX2+5U1QmgC3eCpeMe995c6AQjHf08yz7+qa8XLxiEC3w6WeviMfZ6IugTV/5p4XsKceV/Ht32qS9UJju0rXJ9WAnN3Gfjz+T2+XFoPcsln/vS9LjKbcf1++dxkbBKblTE8eP/UvsCbxqL8tvWi9vWbLvqG4V26up4v87Iy6qI5xHT8guTptt18LLfGv2PCz6z9v4+klxlTwTsKrrqp7ntlLZN4QKPjl3aJL3atq3aL9yq2OW5ZZ1jA/1uN5LQcccBdR4spnqk36t6pfsCd35Qpz3CReaqucGrQvuzPsw10SXhb/GIrXSkVp33LCI3TDscXIXQxqJMbhRWnPlt0hlzCbiyqDqxbjJqq0movHAAWpU0q5vFbiLX9towl3EHP09e8rvjeuo3rUcSoWxkTDxflzYss+y8clc4cwexVbRcQ91CdH0LVl2521nDaNA4urqFzS2ztm2Z0smQlnda9752LrNocstLoG1G+ttytwd85sbPjT+jts1tH/V9qT6XveiAJ62HRozk6DcvyzKtI0566b937f9G5X5GB1nrnagt60dtIx71ot+X/m61S5eJvTYngGUnWHaC2kykE1Cr/85yspEbSRTv+9zFtSp6vy6+1bmFU38PJ0/xb0ujq1vWqpZffCI5T02Pq9x2XKH+XnasovUlbDsU+v/xbein26Urbv/8scvfY+tbFeuZnF8kx298R6FNv3rd+wrt1dUxv3vSa5PQ3Fm5dTo3V1F8gTn30ColTLWuNNmP1N3GaHua9jUl0N2AiTS67qdl5yZl26iyhL+iSZIrd/Fs1v2O0+TYoOqWxraJLp3Tp9+V3ikS7k5Ky69zt0f4rI630+9RpA/nc/2xT50lusJtiUpQpZGOwgqJrBAugVXnPYumzsGVouzESDvm9PPxbTRtOmNuuKiLJy77g8qTybIE1Dyi6wP8WG4EXG7jm0v0dDkKpy1tYN0OJX36R9UBZJm281XkrMctWDlaD9yyvfXjNxXqqJOfWWl5pd+l5deVRZj7rK7ctrTqVuL0tkwdBKZl6OT8gR89N/nEazRaLH2fIh3V5YaOd7HsZdzfzPqqhGvOMi3TVVDnlkyd4MfLVJ9xyz0e9aL9nU440uVc5yC3jqZJLj1s5559Hx59/e6fZ08+6p54xCeOXZ5UuZFE7sJjndFd8ejysgmkQ+gEtM4Iiz6OZdI+WHUb8Tw0Pa5yt9crcreKu9HXIeLj51m42+y0nOuOVohD/ajrE+pl5S5qPXHVfyu0WZ0T7iqvHry98F1NIj12dlE2V1Huwpu29fFdNLl9Qhxar9vceROrGjnVR+JHcucm499VkuyKxXUvm7usTjKw62SeU2eZKvT7c7c0ukRXneNPty+Mz1FzeQVFk4uIOu78zo7/XvguLYOtl9461+RWrLNEF17jOlS6cVSHcnInOuFka5bOmBsuGkeop0vExQd67vvLIr7iXpWVr4pZkjJ1aBm47Hvutqm6E/ytl1ySM+2TbeYa6jrJpx1qvKxDrOctWG59fvqq/1Koo3a4s6pz1aUtrTNu3V2v0XJ1uLaPT/6ddEJjN2fAZy999+Td09yJfnrQ5W6r6WLZS9PbFnXA4K7IdlUfzE+dUS/uhETrdNn2UQmseA4p/VcjGuKrxlVJLiWGdfKmfYb+/eyVb7TJV+3bXX/UNAm5ydLj/VDXJ/+5fZ97ArGOK8LtR6n44p7q6k5U46hzq62i72OZRZI7rtLJn1M2MX16fJo7bo4jvWDRhkuSxCN16sYijEBdJLmLWvHxaWi3Weh7tD9Nv0fHFC9+6/+M51/NbafixH7VKCglVNxxhxLkLhmTJrkCHee4Y6C+Etfaj4Tt3DxG3FQlu3LJnpj2XWW32mtbXXXBYZ7ro37zrCO/tc+87cKz1m71r5rCIJfcjY+jy+b8bip3LFN3mfaBRFfH6iYWXDIpd6ITNmizdMay4aJ1Mt5No86VgNyBsYt5ZNwDd4UpPeGVrhM9fcklOdODtKa3YHWZ5NNyVZ+J66Nos6HtUt2TJfXjWftmnasu8S3DZSdnsVyCWm1b9dn1VLbDLLvipwM2LQ+dbLrPP3zfwck7p+WWdfx9KjttR31XF5retugSw6rLIi9T5FWNennkyeOF5a3QyYnTdJRWGulxQZ1ElNYPd3uvbuk5cNGfr5Udz4lSt+w23O9Pj8XqhEanlT3Sv+wWzjS03V2vK9vryY260jYvJ2zHXRtq36cTPCUK3XFzGlX7jDrc8Y5uQ3P1S4PkVjl3+2I6v/Gs+1m3/BS/uvsLawmedDulOHzdn08l9tUv3UWHONxcRblYtPOFeSpLds0aIYHoltd6r4/pqNs2EfZjZYmuXHJXrwW5i+B6rW0b5Y5lFFW3Z/aBRFcP6iQW3NWJshMdnbzM2hndFQINEa5z9bFuND2Iyx0Yx6Ey+zgIzsldYYoPlnInEW0TPX0qS3LGCZumV5hdmW132ot8C5ZbzvdcXLySO8ttRFVXXcpGcypySS8ludz7FVpPF11uh6llUraeabty13v+Z+FzL378rMk7vNy2O4ys0XbNbYeVhJiVW5/KblvUAU5ajy5u78D6UH+uGk2cW58Lo1w6SHLFiRv1+Sb74KYXsfrav9e98FgWVbdgPvh3l49eTR6QlI5cb3pcNETalqVtp+OlsgSU+nW8LNJoMi/PLMkurU/HPvCWQpkarRjXh4RWO+7isjvGajsCUttWewx845bscVWd7VIu6ZWbqyiNRTxfmLc+kl25UXKLqO4tjS70pOKyRFcuuavv1L4odxF81n1y7lgmhLbF8xzdRaKrB3UTC/FGOzc6KJzo6CQ27oiKrg4QtXNOy64TXSag0gPDUP56HRy6p98pdMJbdhKxqFdncjsTN2dJnYMJlZeWpfLb7LRzSdxFua0ud7KUnijpN+jAp6mqqy5VSa44tPziBzq4dg3vW4aTrrIdZtV8Xa6/K6FYpmzbrX4g597wUKE9q4aPV3HJde0PcnLLlpOs5WYfwjBJsorWWXdhKN5ur3eSK8idBMYxj8RALnldJ9lVlUjRAfuqn6jWpXZyx7hVCajc8WnZstEIO/d6m6kAtD698KH/asvTCKC26wfOyF1c1jKOl3nTuw4CN+rv2cv+w2jDBbdPlR+ii2WaO4cIsUzJmL51mezScfOytat+f9tbGi/7SP5iqGtTDXaR3OACRRcXwess03mN7iLR1ZPcQo4PruLRKrnbwCT3+PiuRmQ0OZFWaCcw9KuTZSe8uZOIRb86k0vYpEPE3WjDlBJ6aTlt55NySVwlOdPRSevJLfP0aq6iTtulyq66NF0360TdZOaiyG1LdaCovzlaf93766yfue9THxBtt9M21TZRy6otdyAevs9xBylaZ7Dccid8cT/PjXIJ63Vue1InukpypZT0ChOMzyO5FSvblz926e+PNp1369rvjaNOkmvW2+FWTe7kv+zYIbcPzD29TkkuLdPcfEtNl9mLX36fLUd9gyRXd9wxlhKJ8TLXCJQ23N0yt2x751TZIbpaptru5JIXJLmKtI9rm+xRqE11XrLMFx7a3NL43uu+Mvn0NLVn+l61kY4xdO5edlt4V+f2dZepfnM6d2iXSHT1qGrYfBgFoIWrDpi+b5xMOH2yrxOYtDPqta4TTW5UVRrzPkhdT7kTXhfLsuNyV7d1cpMeUFRdOXMHrG1Gs/WdxO2Km1/kB9efa+veNInk+lidqy5tQuUtY4K66SPq3a2gufc6uW23biPLHSTM0mdd4lg7fic3mmvR1hm04+bqS+dqy41y0f776BU+Kaw+5soOkU6iPqR9fdW+XE+bjif4LXuK1xBOqNZLWdKxKgEVH59qbjeXyNKxTOjDOqZx73nu9j2TEut55rL/UChD37P1gk+S5OqQO6ZM50LVCNE2XJ9zU7b0kbhMkxc6DimbkmDVtUn2rEqbHv7I2YXffsO1n5r8dZo7pgwXFNTH076vCBfLuqZlWudcWsu9DyS6euYSCwodVKpTSW40lw6kFnnuolWQO+GNY1mSXDI+4DdJ1XRiel1BzcklZlV2E/NM4s7KzS9y7Oo/tonhJsPrcyOPxiM7MgkNvaakRtVtQWksYrs20eQR9W6bqteacNtuLRv1c7ddLltnqiiRkX5X7kmvudFcy7xscYZL0qrf6RaqIPdUOp3cu8/G+ydtV9RX08+G6ONkbxE0uXCVi7Qt0VxuOeS2d87dX/lq4fPpaESFmxT84I43jZ59rt6cir987KHC5/U927Z9jCRXx9w+Ww+siJdnmwnp1d/ScpUAjctVaB/KMsUi+/mnLiv05Y//zbWTv05zF7XCYAQ3v6vurOnzGFLrYZ3RXX0g0dWzsitYulpxzz0Pjw+e0r+pQ+ZGDrS9qoF2csnKEGHjsSzc6CRFOl9JLmHjrhSE22xFtxrETwdU6P/jydLLTrYWMYmrpLNbT/fuu6NQ/ybD68tGHtWdl0+3BVU90GEIJ69aBm5H6U6Q3FOcdFWpifEJmVnmWj5qc9fOba+GuW1MmBMsltsnMJprONTPtT1N+0O6n1EfTPuCTgzTz2nC2vg9ZTHUJFcwS7KLJFd36j7Z2snNQRdGPcZzw+UmBf/U5Ttqbavv2HNd4bNf376ZhEgP3HHlTRcVR803nafLlZtuE5d1pDtWy/Nf/XChL2tblqp6uJU7hpzX6O2q0V19INE1B00PrsJoLu1M086oDhqSBZiPsmTlos/L5eQSBm7OKSWs0gMAe5A5GS1TNVqgKhY5ieuukDyyZ/tMvyE38qjNLZ25W4+HdAuSnaz7dH+M10GdCLkEVdjJN5FLCuuEzPXzpgfhkhshqe1Oyu0TGM01PG674OZsS5Nd6aPxFemoiFysyogGbQeazgVDkqtb4xHLpp2rkl1lD1pwty5pn/itSzYW3qtRWRfs/MLag1scHcsoqZV+9p59H568A11yd0/c8zfvKGyntN9twt0SGW8T2X9iWTz3T7cW+vI/XHbO5K+v0bbVXSgLgxHcRVodQ8yT9sG5aRT6QKJrTurcAhciXLnl8fGLw62YOlhuc/K8CNwJ/Ocv3FLob4o4cZObK+n4049nH1VbNxY9iWvX4ct+azxfSPo76nIjj47edev44CsuU8EBWf4EKX4CY9WIwyZySWGNItO2OF1GbSbLbVJf9gmrwd3SrHBJgJDsuvT84ugTRTr/YhraZiuBvmrblrpzwWhdJMnVPZeAiEPLJp2g2CWAx+8t2b4/ed899jOag039X9vU9LhDo9L/+prv2Tm+Xnn6kcm70CUdS6dt/Yv3/1lhe6Woe0EpdxEpbBOHPoIVw3LkwbsKffnuS6cvgOW2keGOBu3r0/VpPZ9wr/U+7AvC3SxdI9E1R1W3wCm0c9fJlQ464yu1IVZlInj0y8059bMdv5d93Ho4sHBzCb3wif850yguxTIccGi91AF1+vuvu/CKwu+pc1tE7iDsppsOFMpTMC/fa9yVILVjSDqXjThsIzeK7Cv/9FRhGbUZkegSabn6sk9YHa4fu9tZ5SePPTV66vT2O32/nkCX9pc4lDxf9RM9dxFLoW29ktDxaFF0p2ykfBoh6eX2l+PRdhUTUf/i1msKn1OEyc41EjqM7gpPedR8X+n7n9n1n8bvQfc0Wi9tb/UPd2ypUep1uJP+sE0kyYVl4y6APbT9DZO/vsZdvNH+LQhPP45j6FNfkOiaI23IdYUi7YQh1EHDFVttgNPOqINSoAs6eHcHjY/v+P1ssuv6zz5qD0yvu/Lj9v11Y5lOttyB08OXv7nwm+pccXRlHTt9cuWSGYt8S+e8lT2B0V0VVrjbAOvKjSI7/KUPFpZTk9F84hLOClffRRhyjvmxDyj4+vWTv05z2xKFux1doW3uKo7iwmLR9rrJtB5pjJNcNUbb6Xjn+WveXPh8eAJ6un68+dxv2KduvvTFKyYlog+uL/zz/U8Wlo+i6mJi7kJiuG1x6Cf3GB5tx9L+rNuwA/d3rQNhVKyS+O6uGx1bDhmJrnXw0fd8cLyDDR1RVxju+uSH1q4chitKaWfkFhV0KXfrwKPX+VsY3RXOn136u4Vb90KEBJY2okrUuL8v28lW7pai8Fj6EFW3sOUOwn70xT1T5SiUzGBevmm5JzC6kRnx1ay2cqPI/scFnyksrybzdGmUQlqubmd1Fm3IOfrlRhLm+rI7Qeyi3wN9myXZFab5qCM3fUia7MoluRRVI8cwm9xDWdz5UNUI99xoLh2v6tiTJD+WkbudWoNoxF3o1R0DgTuG1LowdCS61sFt332m0Nk0dFpXKHJJLgW3qKBLStrkDjAvuXb69rncwd8t29459T7F0Od8cbcUpY81rxqB5Q7CdKvM+296ZKocBQnuIl0UqDuhdO52ryZyo8gevuL/KSwvbb/rcuufnpjjrOKQ81XmDlrVX1L2fdFVXGDRqQ+7iwllEab5aKJs+hAlvG678KxskqtsHjB0wx0Xaf7Nvbf/rLDv09xqZY5eUdy3MpoLy+7BS99U6NfPPnpw/DeXzNeAhsDlFvTE0aEj0bUONDoj7WwKJbtySa5VyLpi/nJXU1888LG1vlh2hfNd531iqp+uwrwHbhRO+mSzqlvKXJu//J199rZFEtxe7omIcbjEQFu5UWTu1pc6o7rc6EAlKNzJ26oOOV9l6gdu1GeauHUPM4gPboFlU5X4iqf5aKLs4l5ZaD1kNFf/NGF22vbalukYKN336XwpdzHV7Vt1ixejubDsvrPjvxf69pH77hz/TQ9JSv+m5LG4qS8UZU+eHQoSXevEXZ3PhU5wONlFX9wtMnUineh4FZJc4nYmn73oXVNtocglO3IJju89fKRQBgnuvNz8VnF0ecKfG0WmW9HT5VZnslyN3ErLyj11ZlWHnK86d7KvEaUxdwt6k1u6gEWmpFcYRd3FAwJyF/dyMU5y8dTNudCySdtfy1yJKXehRyO9nCN33VYo5+7tb12ZY1QM122X/a9C3z7yjzeP/+bm9dT5nbinhK/K3L8kutaJsqhu9EYabJjRt9xk22Whq2PxaK5V6qdueHCTW9hyCQ6X/Oa2xbzciJc4uj7hd6PInvj4tsJyU1RNlutu0whX31JhdGUcqzDkfNW5bY0ijOoarwPmpF0njAC8uskuklzz5/bpOkZ187zquDMd1az5UW+66NxCGXqNcyksu8/svqzQt/VgJNH8runfwvbL5RuazCe7zEh0rSNtoMuSXSS5MC9uVEAulOSK56TSyJJV6qduRNZzO//j1Lobwu1IXILjh5+cvvUxBCM5y1X1265P+N0oMl1x3nbVNwrLrmqyXHdQols3Uqs85Bx+TsAw8k8HsenfmEsIqKZ9Q+ntkafXI5Jc85ebkP6RJ4/b/aBuYQz7QiW59No/bX9boYzv3rx3/B5gme295oZC335q74Xjv+mW7vRvusXbHUNWTa8yJCS61lku2bVqyQOsr7pzVxyJklzqo0OedL6Mu+p4xXtvLazH7hY2l+C49tIPFD7LrWnVyvpteotXF3KjyJ6+4g8Lc3WVTZabe+qmS8yt8pBz5Ed16QDWJXp1+wKA+rTd7fL2SLRnJ6T/+vXjv4VEVlnoCdi6GFso4+lHxmUAy+y6az9T6Nu/+PDbx39LX1eIm/pilZ7YTaJrASjZFW5NWeXkAdZX1RVOXWljQtbXuGRVnVvYcgmOvzrv04XPVY0Iwmtcv9VcWnpSYh9yo8huv+gvp5Zf2WS57mA+NxJnlYec4zVuVJfbBinYRgNYVm7OWO3fRfvTt195X2F/GIceDJR+/uh7/vP488Cy+5vrv17o389e9abxha/0dY3w0oOM3DqzSk8eJdEFAA25pwMpgfW/rv5uYYcSJ6zcE9J+esnvFj7DiJ3FVTaKLB3V5SbLzSU73Xxiqz7kHK+p+8AQblsEsMx04Srdrml/G+Tuggnx0PY3FD6fm/sSWDbvv+mRQv/+5Y7X+Wk1PnaWnd9VofVoVZDoAoCGcpNAf/vG4hP44lvY3FP79m3bOvV+HcQdPc5tE4tMB+Nu+X/wgh1Ty9JNlpsbzeVulVn1Ied4Td0Hhrg53gBgWeSmB9A2MNA+1Y1S0QOS0s8pdHEKGAKdTzx18W8X+ri7iP6NXe8srCMKJb9WCYkuAGjBJSyevbb49MVwC5u74qLYdN703F48aXE5uFE292//k9Ebt945tTzjedpyCdLc0yHdkzhXacg5zqh68EK4vQcAlpm7VdtNRaDR8jq+CvvG2y48q/A53eINDIUSXT/c/vpCP3/58zsKr3102/apY0eFLr6u2kOuSHQBQAtuiL1iwwW3F3YuuoXt5c9sK7xXTwdK38uTFpdDbpSNO7gI87TlnpLnRnNpVJ8OStKyVmnIOc7QqAQ3IlSh5Gk84gEAlpVL6r968PbJX/PcRaQ6nwOWhR7I4BJdbs7OXedfPXXsqOPJVXzIHYkuAGjJXXncc/3NUzuXsIP55a7/WHjvpedfN/U+PYwCy8M9vEFPJk0fLnDzHU+P39/kKXk3fPGJqTIU9A/o9sT4MeI6uWMCegBDYZ+8+O0bJ3/13IUn3QLpLiIBy0oXzV2iKz4mCKFbecOx46omuYREFwC05EZpPfnVj08lJxS6PTF9nx6Bnd7mxpMWl4tup0iXq0K3MMbLVbcvutFcCpekyI3m4rZFAMCQufmGcheEArd/1YVIYEiU6NKdIGlfd/Fn5/7D+LhxlZNcQqILAFrSVcZ056IDMg0vjhMUGrmVvu/u7W+deg+TjC+nV75+fWHZKi589w1ry1YJTT3iPH1P7il5udFcmusNAIChOvnINwv7yqo5CF1yTBcigSHRxc46iS5dSA/Hjquc5BISXQDQkjsg+9WeTeOERPxUID1ZMX1f/LRFJTF40uJy0q0Rbu4kDS/fcN6Xsstf4Z6Sp77jHp/OaC4AwNC5+U+1jy2jC4zpZ6pudwSWje76qJPoemj7G9aOHVcdiS4AaEkTRKc7GM2ZI7d995m1HY3bMcUTRZLEWG4u4alQskvzJOjqWvo3zdfl6Opb6BchGM0FAFgF/3bieGF/qfm2yugCY/oZ7ZeBIamb6Dpw0Z+Pjx110XTVkegCgBnoACzdyfzmhcPjEVra0eg+eZfoCBOW6/HYJDGWnzvQzoVuWcw9JU+Pjw4JrhAf+Nzjk78CADBs7gmKSoA5GlXt3q8LkcCQfPP+52olum7Z9s6184tVR6ILAGbgHusbbknTvFvutrWfXPw7azuhZ4++On4vlpsOqt3BtgvNJ+LkJqF/4PEXJ+8AAGDY3BOtdUuj4yaiz81/CSwzHQvWSXR98IIda+cYq45EFwDM4JVvfqSwk3n58zvGfzv6zDOjI5e+rvD3j1z6N+PbFRnJNSw6EK9Kdul2xmef81emc5PQAwCwKnRrf7rvzN2KqOOt9L1VT2kElpESXZ+/cEuhv6ehB2Dp+FFP/F51JLoAYAb/+sT3CjuZF6754/Fw+n/Zf3Xxb+99/fhvGKayZFeYoP7mO56evPuM3Ggu5m8DAKwSd+zkRkLnblvUcRkwNHUTXVvO+/vx8eO5Nzw0+eTqItEFADMYH2iZebpe+fr19gAsd9sahkPJLj0OPSxz3ar6/gt2jd649c7xwYe7ZTU3motRfwCAVaLjpPi4SaHkV4rbFrFKnjrySq1El+YG1jEkiS4SXQAwszipURaM5lo94aEEacTJLv2X0VwAAPgnGbsnFXPbIlaJjhXrJLrCMaQebrTqSHQBwIx+/dRBu7NJgwOw1aSHEsQJrBBKdmkkl0tyMZoLALCKNCo6PX7SBPUpblvEKiHR1RyJLgDogG5VdDucODgAW00abv6W7XdPJbKqgtFcAIBV9G8njheOn5TUiulJx4X3XP5bk78Cw/PSK7+uTHSFp7orPvC5xyefXF1zT3QdPHhwtGHDhrXYuHHj6NChQ5O/viZ9T4hNmzaNjh07NnkXACwO3ZL44nVvtTseBfNGrLbHf/5y7WSXRnoxmgsAsKrcaC2Nng9ePXh74e+/2rNp8ldgmG7cdn6h38ehhx6FY8m9t/9s8qnVNddE1/79+8cJqwMHDkxeGY327NlTSHYp0eUSYACwyHJP3FOSi9FcqJPschPVAwCwSo7f+I7CsZTm5ArckxndhPXAkHx02/ZCv4/j/u1/snY8SaJrjomukydPjrZs2TLavXt6jhr3OokuAMtKyS7NJaEdjhJcenoQE9AjULLr7VfeN5XcUmieLt2uyEguAMCqe/X+LxVO4nVrom5rFJcI02eAIfvYRRcX+n0c/7T9bWvHlUyBMcdE1+HDh0ebN28e7d27d/LKa06dOjXauXPnaOvWraMTJ06MXyPRBQAYsq/de2Q8eksHI/rvA4+/OPkLAACrTRcI3Qh5XTz8zUu/HCe90r/pQiMwZJ+6vPik0TjiRJeOM1fduie6RLcvxvNvkegCAAAAgNXkbk/UiHn3OvOgYhVUJbo0WT2JrjPmlugKI7fSBFZIgKWJrnQiehJfAAAAADB8GqHlTubdaC6N9AKGrkmi695HeYDf3BJdEpJdcQJLtyxef/31lU9U1KgvvT+eyH4W4fcSBEEQBEEQBEEQixVHrn+bPaGP4/ndvzf60SMP288TxJDiQ5e+z64DIfZt27qW6PrKncuzTvQllD+XRFeOkljxHF1ObjL7tsLvJQiCIAiCIAiCIBYrnrztQ/aEPo6nvnSt/SxBDC0+csW1dh0Ioacykug6I5S/bomuugksN2k9AAAAAGB4NPG8O6EPobm5eLI1VsXea26w60GID16wYy3R9ezRVyefWl3rnujav39/rfm3uh7RBQAAAABYXC/dtNWe1CuYmwurpCrRtev8q0l0RdY10aUkl+bdip/EGEZuxXNxhdeq5vECAAAAAAzDqed/OnrxurcWTupfuOaPGc2FldIk0XX0OOvGXBNdYUL5ELmRXO6pi9yyCAAAAACr59X7vzRObumE/lc3/LfRb144PPkLsBo+ff1HCsmtOM5799+tJbqwALcuAgAAAAAAwLtlz6dsgivEu877xDjJ9bYd904+sdpIdAEAAAAAACyofR/7ok1whfir8z49TnSdfc0PJp9YbSS6AAAAAAAAFlRVomvDeV8aJ7rOveGhySdWG4kuAAAAAACABVU30XXVzY9NPrHaSHQBAAAAAAAsqK/c8lWb4AqhJJfiY199cvKJ1UaiCwAAAAAAYEGVJboe2v6GtUTXzXc8PfnEaiPRBQAAAAAAsKC+8Lk7bZJLceCiP19LdH3t3iOTT6w2El0AAAAAAAAL6rNf+p5Ncilu2fbOtUTXA4+/OPnEaiPRBQAAAAAAsKC+cccDNsml+OAFO9YSXY///OXJJ1YbiS4AAAAAAIAFdee3Dtokl+LCd9+wlug6evzk5BOrjUQXAAAAAADAgipLdP3VeZ9eS3ThNSS6AAAAAAAAFlRZouvN535jnOR62457J+8GiS4AAAAAAIAF9a17nrBJrqcu/u210VxnX/ODybtBogsAAAAAAGBB6WmKLtF19/a3riW6zr3hocm7QaILAAAAAABgQeUSXbddeNZaouuqmx+bvBskugAAAAAAABZULtF147bz1xJdH/vqk5N3g0QXAAAAAADAgsoluq684Mq1RNfNdzw9eTdIdAEAAAAAACyoZ4++ahNd7zrvE2uJrq/de2TybpDoAgAAAAAAWFBKdD17yb8vJLo2nPeltUSXRn3hNSS6AAAAAAAAFpQSXfu2bZ1Kct2//U/WklyKx3/+8uTdINEFAAAAAACwoJTo0uit2y/6y3GS6ycX/87or8779FSi6+jxk5N3g0QXAAAAAADAgnrplV9PJbVc4AwSXQAAAAAAAAvMJbfiwBkkugAAAAAAABaYS26FeMv2uyfvgpDoAgAAAAAAWGAuwRXiL674/uRdEBJdAAAAAAAAC+yPzr/LJrkUJLqmkegCAAAAAABYYG+/8j6b5FK887oHJ++CkOgCAAAAAABYYBfuOWSTXIpzb3ho8i4IiS4AAAAAAIAFdtXNj9kkl4JE1zQSXQAAAAAAAAts7+0/s0kuhZJgOINEFwAAAAAAwAL72r1HbJJLQaJrGokuAAAAAACABfbA4y/aJJfiA597fPIuCIkuAAAAAACABfbs0Vdtkkuh2xpxBokuAAAAAACABeeSXAoSXdNIdAEAAAAAACy4v7ji+zbRdeu3Dk/eASHRBQAAAAAAsODeed2DNtGliepxBokuAAAAAACABbd7349IdNVAogsAAAAAAGDBfeyrT9pE172PHpu8AzL3RNfBgwdHGzZsWIuNGzeODh06NPnrGSdPnhxt2bJl6r0HDhyY/BUAAAAAAGB13PbdZ2yi64HHX5y8AzLXRNf+/fsLCas9e/YUkl2HDx8ebd68ebR3797JK/6zAAAAAAAAq0Ajt0h0VZtboiuM0Nq9e/fklde415X82rp16+jEiROTV0ajU6dOjXbu3Fl4HQAAAAAAYOieOvKKTXQ9e/TVyTsgc0t0uVFakiawQuIrfZ9oVFfuVkcAAAAAAICheumVX5PoqmHdE12iEVybNm0aHTt2bO197hbFML8Xty8CAAAAAIBV85btdxcSXUePn5z8FTK3RFcYuZWbjyskusqSWV0musLvJQiCIAiCIAiCIAiCWIbY/Yn7ppJcW66+x75vGaIvofy5TEYfkl1KVoXQLYvXX389iS6CIAiCIAiCIAiCIIiS+N4Dj46TW0pyvenCu0ZfufNh+75liL6E8ueS6MqJJ5/n1kUAAAAAAAC0se6JrvSpi2VzeTEZPQAAAAAAAHLWPdGVJq/SpzAGudcBAAAAAAAAWddEl5JcuhUxHb0VblGMX2c0FwAAAAAAAMrMNdGlubiUwApRlrgKya467wUAAAAAAADmmugCAAAAAAAA+kKiCwAAAAAAAINAogsAAAAAAACDQKILAAAAAAAAg0CiCwAAAAAAAINAogsAAAAAAACDQKILAAAAAAAAg0CiCwAAAAAAAINAogsAAAAAAACDQKILAAAAAAAAg0CiCwAAAAAAAINAogsAAAAAAACDQKILAAAAAAAAg0CiCwAAAAAAAINAogsAAAAAAACDQKILAAAAAAAAg0CiCwAAAAAAAINAogsAAAAAAACDQKILAAAAAAAAg0CiCwAAAAAAAINAogsAAAAAAACDQKILAAAAAAAAg0CiCwAAAAAAAINAogsAAAAAAACDQKILAAAAAAAAg0CiCwAAAAAAAINAogsAAAAAAACDQKILAAAAAAAAg0CiCwAAAAAAAINAogsAAAAAAACDQKILAAAAAAAAg0CiCwAAAAAAAINAogsAAAAAAACDQKILAAAAAAAAg0CiCwAAAAAAAINAogsAAAAAAACDQKILAAAAAAAAg0CiCwAAAAAAAIMw90TXwYMHRxs2bJiKvXv3Tv76GvcexaZNm0bHjh2bvAsAAAAAAAA4Y66JrpDAOnDgwOSVM6/FyS69tnHjxtGhQ4cmrwAAAAAAAADl5pro2rNnz2jr1q2jEydOTF4ZjU6dOjXauXPnaPfu3ZNXSHQBAAAAAACgubknutLbD0+ePDnasmULiS4AAAAAAADMZK6JrsOHD482b968luwKo7nS5BeJLgAAAAAAADQ110SXhGRXmGA+HskVhHm74ug68RV+L0EQBEEQBEEQBEEQBDHf6Esof26Jrv37948TV+ecc85awiudt8vRbY96bzyR/SzC7yUIgiAIgiAIgiAIgiDmG30J5c9tjq50ZFYYvVWV7HJzeQEAAAAAAADB3BJd4ZbFvXv3Tl45Q6O8qm5NDPN51Rn9BQAAAAAAgNWzNIkuRnQBAAAAAACgzNwSXWFEVprQCgmwkMAK74vn4so9nREAAAAAAAAI5pboCsKk8nGko7zcUxe5ZREAAAAAAABl5p7oAgAAAAAAAPpAogsAAAAAAACDQKILAAAAAAAAg0CiCwAAAAAAAINAogsAAAAAAACDQKIL6+Lw4cOjs846a3To0KHJKwCAvrHtBYD5Y9sLAPO1UomuU6dOjXbu3DnasGFDIXbv3j15V3t79uyxZSv27t07eVc/Tp48Odq1a9foxIkTk1dmo/K2bNmyVv8DBw5M/tKNvnb46TLetGnT6NixY5O/1hP/9q5/t8R13Lhx41QbxH1olj7Td1+v0nV/TB08eLDVsnX66utd9MUyab3TvlRH3309YNtbX1/9MWDby7Z3Fmx7i/Vm21ssW8G2dxrbXra9s2DbW6w3295i2Qq2vWesTKJLO5jNmzdPdQQXbTpH3bK7XuFjbTeA6Yqo359bOZt0vLTTVkXTuofy4zrl6t10Q+jq3uVOcv/+/VNlh/q5jVaf/bHPDeEsO+S0HVy/a1N+3329j74YqE3iPrgsfV3Y9np998e0jFyw7WXbG7DtLWLb67HtLWLbm8e2txzb3iK2vR7b3mZWItEVGnHr1q1T2Ud1lrPPPnttQYUNcZPGDWVXLfCwYnW9MgVtO53byezbt2+qXcJvbFJ3tyEpi3TZVHEb2bDyuw1vm7qrnPR3NK1nKtQn3rhpGZxzzjmFuqs/Nv2+Pvt6E237Y3owFCL9PW3K77uv99EXJVd+emU4t+zL9NnXpc/+GMpm2zstXY5V0XQ55/oj297++noTbHvZ9kqf/TGUzbZ3Wrocq6Lpcs71R7a9/fX1Jtj2su2VPvtjKJttb30rkehyK4zodW1o45VGC2HWlT2naccICzvtFLlo2ulcZ1IdVVbaBm06dViJ3YbDbbCacO2eq2PTHacrO10WbVZwcWWH19I6tmnzXH/U67P29fXojxJ2nnF5bdelPvq6a/Ou+qI0Kb+LunfV16XP/pgr22naLuvR11VHlTVrfxS2vUWu7PAa295ifxS2vfXL76LuXfV16bM/5sp2mrbLevR11VFlzdofhW1vkSs7vMa2t9gfhW1v/fK7qHtXfV367I+5sp2m7bIefV11VFmz9scyK5/oqrsi5fTZ6ULZaefKRdNO4eoeOmI6nLJtp4tXnLjMvnb4bmPa9TLVhilu9zrLPnBlhx1aFyt6ru659lr0/hiEfhTK7GKZdtXXc23bRV8UV0/1mfgKSNBF3WOz9HXJlZ9rsy7rHmtbdvzby6LpMnV1Z9tbvUzZ9k73u1x0VXdh28u2N1VV91jbsuPfXhZNl6mrO9ve6mXKtne63+Wiq7oL2162vamqusfalh3/9rJoukxd3bve9jorkegKDek2qOm9vW0aVytF1WdCHdxGoIwy4XXq06beTTpd3XrkqH5aMUJ7d7XDT1e8eezwg3DlrknZrn3jjWr8nW2ugvTd1+fRH9O+F4Tfpt9xyy23zLxMu+rrffbFIPS1UP+y39Okz/TZ16Xv/si2t5rqp2XHtrfYvmx7XxPanW1vUehrof5lv4dt77Q27SLz6Ot99MeU6qdlx7a32L5se18T2p1tb1Hoa6H+Zb+Hbe+0Nu0i8+jrffTHMiuR6BItlHhlDJF2AjVu046RW+HTSDt4HbkVJtV2Q6IVJi471+nS97UV79zatEeQa3PXBk2Xad2NYFth4xmHvsu9ntv5lemzr8+jP5bVKXy/fk/T8vvq6332xVi87pRFk37bd18Xtr1eX/0xJ+4/bHvPBNve16h/lNWJbe/0d7hg21sMtr3T/Ydt75lg2/sa9Y+yOrHtnf4OF2x7i8G29zUrk+iSMFQ2dAK3kGZpXLfBDjHLAqtzFahtp6tTdmi3rjYKYSWdZYdfV/iuJjvOeWwE4413XLe4D83aZ/rq6333x6q+FjaMTctfj74ea9MXU2U7uDYHEvPo69JnfxS2vfWE5c2297W+wbb3jDp9jW0v294U2956wvJm2/ta32Dbe0advsa2l21vim1vPSuV6AIAAAAAAMBwkegCAAAAAADAIKx0oisMBQ1D/doMw8tJh1p2OVy5z7KFunur3i5xGX0Oce6j/GUtW6h7XrwNT/t07jaJuvosW6i7R7vkxeWnMcutCkGf5S9r2ULd8+J+nUbbfh70WbZQd492aUfHO7t27Wp8K11dfZa/rGULdffa3l5YR59lS5flr0SiSx1JJ1vxiVZu558enNahDWt8wLAsZQt192iXorAexWXE3zOrPstf1rKFuuelcxSEPq11IH5d0fQgt8+yhbp7tIuXzveRizb1lj7LX9ayhbp7dctuO49LX2ULdfdol9ks08l/iqSIt6h1T48p3IXkRSxb+i4/tbKJrrBRdMmvJidiubLTydZC2U0mzuuzbKHuHu3ixWWH/w8bqqb1dPosf1nLFuruhT4cn6RpB3rOOecUtu1KQDT5vj7LFuru0S5eKDv9jLbtZ5999trBoMrVuhV/Vx19lr+sZQt190LZVSciYZvf5Ji6z7KFunu0y+wWNSlSx7KWLatW97DNTiPd1i9a2dJ3+c7KJrpyjaiFkDZ4mSZlN11wfZYt1N2jXTxXdjjACBurpvWN9Vn+spYt1N1zZYfXZt1p9lm2UHdvWcuWeddd9LoSafFFDCXXmp7I9Vn+spYt1N3Lle101dedrtbTHOrurVK7pMcrVdG07n2Wv6xlC3X3Qtnp9loXMHRBLS6rbV/vo2zpu/yclU50pQef0rZjxFdx0ytmwSKVLdTdo128qoMJHSzHG+86Bx2xPstf1rKFunuubPV17TDTHWkXfb2rsoW6e7SL58oW93pXdZcuyl/WsoW6e7mynUUqW6i7R7t4oez4OKUs2tbdleViUepOu+TNo+6ur4fzv1Bel+vprGVL3+XnrFSiK+1cXSS6JB367RZmWIjuO8v0WbZQd492KXLlOOH7u9wIxtqUv6xlC3X3Qh+Ok7px4iz+TpXfpK/3WbZQd4928ULZLmEW5gEL2hzD9Fn+spYt1D1PfbvqM6EOTdelPssW6u7RLp6211VlS5v1SPosf1nLFupeFI6p4+OMWOjj2sbfcsstC1O29F1+zkonulwjqnO23cim5buID3br6rNsoe4e7TKtbtKirT7LX9ayhbrnaXvt+rR7PbdzzemzbKHu3rKWLX2WrwPitAxFeryi72pzDNNn+ctatlB3L2zbXflxpEm1OvosW6i7R7t44QQ8TRqntL61OTnvs/xlLVuou6fzu7Ltdfhu9fdFKlv6Lt9ZiURXXWFD2eYAV8o2tE0PIlJ9li3U3aNdzgjl6cStD32Wv6xlC3UvFyd14223Tt7C61UHGzl9li3U3aNdvHArZCjHHQjq+xex/GUtW6h7Xtyv02hbZtBn2ULdPdqlSOtR+lCnVNukiPRZ/rKWLdS9SOVqm152XB0SRotUtvRdvkOiCwAAAAAAAIOwUomueEhcl5l+Wdayhbp7tItH3T3aJY9l6lF3j3bxqLtHu+T1Xb5Gg7myFfGIxjb6LFuou0e7eNTdo13yWKZe3+XHVibRFYbLuUaNo00DL2vZQt092sWj7h7tkscy9ai7R7t41N2jXfIWoe6z3N7iyouj7a0t1N2jXTzq7tEueSxTr+/ynZVIdIUrWum8RGrws88+e60xw73dTeaTWdayhbp7tItH3T3aJY9l6lF3j3bxqLtHu+TNo+5VJyNhjsYmI8f6LFuou0e7eNTdo13yWKZe3+XnrESiKzRauiPX6+ecc87URHEaTtekcZe1bKHu3rKWLdTdW9ayhbp7y1q2UHdvWcsW6u4ta9lC3b1c2U7TyZb7LFuou0e7eNTdo13yWKZe3+XnrHyiK329q46x6GULdfeWtWyh7t6yli3U3VvWsoW6e8tatlB3b1nLFuru5cp2Fqlsoe4e7eJRd492yWOZen2Xn7MSia4wXC69YqWG3Lhx49SVraaNu6xlC3X3aBePunu0Sx7L1KPuHu3iUXePdsnru3yNAqv6TKhDevtklT7LFuru0S4edfdolzyWqdd3+c5KJLpEO3LNQ5BG2pCar6Bp4y5r2ULdPdrFo+4e7ZLHMvWou0e7eNTdo13y+iw/XJ135ceRJtXq6LNsoe4e7eJRd492yWOZen2X76xMoks0CWc827/LKirbmF4Bq2NZyxbq7tEuHnX3aJc8lqlH3T3axaPuHu2S13f5SpKFstNoW2bQZ9lC3T3axaPuHu2SxzL1+i4/tlKJLgAAAAAAAAwXiS4AAAAAAAAMAomuhO4f3bVrV+O5EOpY1rKFunu0i0fdPdolj2XqUXePdvGou0e75PVZvuYJc7dLdqHPsoW6e7SLR9092iWPZep1WT6JrgSdzqPuHu3iUXePdsljmXrU3aNdPOru0S55bcvX3F7x3CrusfGLWLZQd4928ai7R7vksUy9vstPkehKdNm4qWUtW6i7R7t41N2jXfJYph5192gXj7p7tEtem/JzkwmnT29ctLKFunu0i0fdPdolj2Xq9V2+sxKJrlOnTo127txpG9dFk8Zd1rKFunu0i0fdPdolj2XqUXePdvGou0e75M2j7unTscITHuOymp6w9Fm2UHePdvGou0e75LFMvb7Lz1mJRJfmH9iyZYvdubto0rjLWrZQd4928ai7R7vksUw96u7RLh5192iXvHnU3d1yEk5mQnlNT1j6LFuou0e7eNTdo13yWKZe3+XnrESiSzRcrk6jtWncZS1bqLtHu3jU3aNd8limHnX3aBePunu0S15f5YcTlr17905emRZOWjZu3Di65ZZbFqZsoe4e7eJRd492yWOZen2Xn7Myia7QgOmQuVSbA4plLVuou0e7eNTdo13yWKYedfdoF4+6e7RLXp/la0LhdF6VWPjupqPFpM+yhbp7tItH3T3aJY9l6vVdvrMyiS7RfaBnnXXW6NChQ5NXitoeUCxr2ULdPdrFo+4e7ZLHMvWou0e7eNTdo13y+ipf5WpeFXcbShBOWhapbKHuHu3iUXePdsljmXp9l++sVKILAAAAAAAAwzX4RJeGyWkIXNXQ7TaWtWyh7h7t4lF3j3bJY5l61N2jXTzq7tEueSxTj7p7tItH3T3aJY9l6vVdfpnBJ7rCEDg1cIjcRGhNLWvZQt092sWj7h7tkscy9ai7R7t41N2jXfJYph5192gXj7p7tEsey9Tru/wyg090xcKM/6GRNbN/2bwFTSxr2ULdPdrFo+4e7ZLHMvWou0e7eNTdo13yWKYedfdoF4+6e7RLHsvU67v81EolumKafDM0sqKrSc9kWcsW6u7RLh5192iXPJapR9092sWj7h7tkscy9ai7R7t41N2jXfJYpl7f5cvKJrpi+/fvn2roLu8hXdayhbp7tItH3T3aJY9l6lF3j3bxqLtHu+SxTD3q7tEuHnX3aJc8lqnXV/kkuiLuHtKyR2A2saxlC3X3aBePunu0Sx7L1KPuHu3iUXePdsljmXrU3aNdPOru0S55LFOv6/JJdGWEe0i7zljKspYt1N2jXTzq7tEueSxTj7p7tItH3T3aJY9l6lF3j3bxqLtHu+SxTL0uyifRlVCj7tq1a3TixInJK91Z1rKFunu0i0fdPdolj2XqUXePdvGou0e75LFMPeru0S4edfdolzyWqddl+SS6EpoYrY/J0GRZyxbq7tEuHnX3aJc8lqlH3T3axaPuHu2SxzL1qLtHu3jU3aNd8limXpflk+hK0Ok86u7RLh5192iXPJapR9092sWj7h7tkscy9ai7R7t41N2jXfJYpl6X5a9EostNbFYWTRp3WcsW6u7RLh5192iXPJapR9092sWj7h7tkscy9ai7R7t41N2jXfJYpl7f5eesRKJL93pqMjPXkC6aNO6yli3U3aNdPOru0S55LFOPunu0i0fdPdolj2XqUXePdvGou0e75LFMvb7Lz1mJRJfs37+/VqO1GS63rGULdfdoF4+6e7RLHsvUo+4e7eJRd492yWOZetTdo1086u7RLnksU6/v8p2VSXSFIXNVj6hs07jLWrZQd4928ai7R7vksUw96u7RLh5192iXPJapR9092sWj7h7tkscy9fou31mZRJccPnx4dNZZZ40OHTo0eaWobeMua9lC3T3axaPuHu2SxzL1qLtHu3jU3aNd8limHnX3aBePunu0Sx7L1Ou7/NRKJboAAAAAAAAwXINPdO3Zs2c8qVnVMLk2lrVsoe4e7eJRd492yWOZetTdo1086u7RLnksU4+6e7SLR9092iWPZer1XX6ZwSe6wv2gauAQe/funfx1NstatlB3j3bxqLtHu+SxTD3q7tEuHnX3aJc8lqlH3T3axaPuHu2SxzL1+i6/zOATXbH00ZYbN24svUe0iWUtW6i7R7t41N2jXfJYph5192gXj7p7tEsey9Sj7h7t4lF3j3bJY5l6fZefWqlEV0wTnYVGVnQ16Zksa9lC3T3axaPuHu2SxzL1qLtHu3jU3aNd8limHnX3aBePunu0Sx7L1Ou7fFnZRFds//79Uw3d5T2ky1q2UHePdvGou0e75LFMPeru0S4edfdolzyWqUfdPdrFo+4e7ZLHMvX6Kp9EV8TdQ3rgwIHJX2ezrGULdfdoF4+6e7RLHsvUo+4e7eJRd492yWOZetTdo1086u7RLnksU6/r8kl0ZYR7SLvOWMqyli3U3aNdPOru0S55LFOPunu0i0fdPdolj2XqUXePdvGou0e75LFMvS7KJ9EFAAAAAACAQSDRlVD2cNeuXaMTJ05MXmknHXo3ywRrbhhfiL6yqKlFbBdZ77ahXbyu2kW6bBvaxVvvdhG2vR7bGI928djGeLRLHttej22MR7t4bGM82iWPba/XZZ8h0ZXQEwCadBAtDA2ri+8fzXWSNo/QPHz48Gjz5s2FstLYu3fv5BP9WLR2kUVoG9rFa9ousgrrEu2Sx7bXYxvj0S4e2xiPdslj2+uxjfFoF49tjEe75LHt9dr0mRwSXYkuOl3oKK4jNsmGhs9s3bp1Kqup8s8+++y1OoYnFcTf17VFahdZlLahXbw2G6lVWJdolzy2vR7bGI928djGeLRLHttej22MR7t4bGM82iWPba/Xps/krESiKyw8LZg6MWunyy0gdY60A5VxZYteP+ecc6YytXv27Gm9c3Bt4GJR2kX6bBvaxeuzXaTPtqFdvD7bRdj2emxjPNrFYxvj0S55bHs9tjEe7eKxjfFolzy2vV7ffSZnJRJdYeG5hnTRRadznSvXGXPKOl3djl5mWdtF+mwb2sXrs12kz7ahXbw+20X6bBvaxeuzXaTPtqFdvD7bRfpsG9rF67NdpM+2oV28PttF+mwb2sXrs12kz7ahXbw+20X6bBvapbmVSHSJMpt1Gq1tx0gXUBedLmQ/06ypyknvvW3T6WQZ20X6bhvaxeurXWSZ1yXaJY9tr8c2xqNdPLYxHu2Sx7bXYxvj0S4e2xiPdslj2+v12WdyVibRlVuAqa46nStDC9h1xjKqT1q2Ii2nTdmyrO0ifbYN7eL11S6yzOsS7ZLHttdjG+PRLh7bGI92yWPb67GN8WgXj22MR7vkse31+uwzOSuT6BJNqHbWWWdNZSVTXTZuLHTONk8qCBPNhQ7n6tfmftlgWdtF+mwb2sVbz3aRRV2XaJe89Wwb2sVjG+PRLnlsez22MR7t4rGN8WiXPLa9HtsYj3Y5Y6USXQAAAAAAABguEl0AAAAAAAAYBBJdAAAAAAAAGAQSXQAAAAAAABgEEl0AAAAAAAAYBBJdAAAAAAAAGAQSXQAAAAAAABgEEl0AAAAAAAAYBBJdAAAAAAAAGAQSXQAAAAAAABgEEl0AAAAAAAAYBBJdAAAAAAAAGAQSXQAAAAAAABgEEl0AAAAAAAAYBBJdAAAAAAAAGAQSXQAAAAAAABgEEl0AAAAAAAAYBBJdAAAAAAAAGAQSXQAAAAAAABgEEl0AAAAAAAAYBBJdAAAAAAAAGAQSXQAAAAAAABgEEl0AAAAAAAAYBBJdAAAAAAAAGAQSXQAAAAAAABgEEl0AgJV08uTJ0ZYtW0Z79+6dvLJYTp06Ndq5c+do69atoxMnTkxeRc6iL09MC/17EZdXuu7Nc11clH7s6nHw4MHRhg0bFn4dS+selt/u3bvH/wYADB+JLgDASiLRNSwkuvpx+PDh0ebNm8cJjhBp8mPjxo2jQ4cOTV6ZluvHZZ/bs2fP+HvWKzExtERXm/YcUqJLqvopAGBYSHQBAFbSoiRG5nEC1vV3LOJJI4mu7u3fv3+c2Dhw4MDklTNJoNDOVX0hlyRS8sUlXsJyPO+880abNm0aHTt2bPKX+amb2OpjPei6H7dtz3muT123o6v7PH8PAGD9kegCAKykRTnxmUfSqOvvmEedm+JEtlthJFec5HKq+oJLGpUtK5WnhMzDDz9c6/v7MKREV9v2nOf61HU75uqu5Oo8RuUBANYfiS4AwNILt+akEZ/o6GQqvK6Tqh/84AeFkyGNYNGJ0Isvvjj+myvH0efik8n4M2ndwuvhZDr+myKMcsmdbLtbyXInr1XfIV2XV9YW8TJIPxfUXQZ1lifaU7+tMwKoKknh+nHuM+G96hfx/6dCwuInP/nJVN8N/TZe59L+UKd/pXXO/Tt8NkSoq2u7XPKlbj+us+6k6ran1KlHmvys+zvT9gqfqWpHqfO767ahln1ZXwUADAeJLgDA6KVXfj36wOceH/3FFd8fvX7rdxY2VL/d+340Onr85KTmxZMtdzITToTCCVqc3IlPhvTZcLIUPh8+m540xdznRHWLP5fWQ/SaO/kKJ4FpgiCtiyszlfuOrsuTXFuk5YZlkLZr+Hy6TOPP5srSa2XLaZ7+7cTx0b98effohWv+eHT0kn+3sKH6vfyZbaPfvPTLSc3PJCvqJFPK+oK4fqzlmSZIJE2k6H2u7JDIissIr5X1E3H9M7wv9J20zu43SO63100A1e3HufdV9fW67Vm3Hml5dX5naLs0eZX+u0m92rShpO8FAAwXiS4AwOiqmx+ziaVFjXNveGhcb3fyWOdES9xJU5pQCXRCl57kxsLn0hOrlEsg5E7ycifbLvlQVT/3HV2XF7i2yH2X3pueKLuT8XiZNlme6+nlz++wiaVFjeM3vmNSc79e5ZT1BUn7sbgEiaT9IbdM3edDEiN+r1vfQv8sW8fTOrvfILnf7urXdruUe59bd1J12rNuPSS8Ftquzu+s05eabJ/i39Sk7pJ7HQAwPCS6AACjt+241yaUFjnEnUTVPdFyr+dOHvV62cl81d8Dd2KWO1kO7w0n12UnaVXf776j6/IC99n0BDlw5ejz6TKI263J8lxPL7z39TahtMgRNGnLsr4gaT+WOKkUuPeFeqTvdQkW18fc+ub6l8T9Nq2Lq5vkfvssCaD09SbrTqxue9ath6R1aZLQK7sQ4H5Lnd/dpO4SyszVAwAwHCS6AADjEVIumbSooVsYg/RkK0205E5u3MlQnZNgJ/f3+CQvjlkSXemJn1Sd9DY5kZQ25QWuLcJ3pe2gSN/rlkFoC7Vbk+W5njRCyiWTFjV0C2MQ2jLupzlVfcUlXFyiK7dc9d60fJdgcf057jdBnXU8rbP7DZL77XUSQHX7cZN1J1a3PevWQ9I2rvM7A7031Dv9TNn2Kf69IcJ7m9Rdcu8HAAwPiS4AwOipI6+M3n7lfTaptGih0Wf3PvraSVI4AXUnQUHupMe9XnYS7F4P4pPkwJ0cuxPv3Mly+vmykzT3/bGyE8muygvcZ8N3uaRayrV13G5Nlud6OvX8T0cvXvdWm1RatNDos3/98XcnNfd9N6esL4gryyVItNzj9TiNeLm6z7s+5tY3178kfj2tc649cr+9TgKobj9usu7E6rZnk/UprUuTRFcQyog/V7Z9KvvdTeouocxc3QAAw0GiCwCwtHTictZZZ2VPssWd7Io76dHJYe7Eteyk333Ole/qkjtZzp1sp79DqurnvqPr8gLXFlUnv7E44RDEdc3Vm5PYbmkZKyFSlWAp6wuS9mNJl7F7T+D+5hIsYfnXSXS5+sZ9Pv3OXP1yv9314bR/urpJ+r4m606Qq6/kflud9Slt4zq/00nbzbVjnd/dpO5St08DAJYfiS4AwFLTCWo8UiFEfDKjE7L4tXAipNfik6HwvvQkLC0v5U6ew4lafBIW6hq/ljspcyer6e8Q91oq9x1dlyeuLcSVq7ZNT8b1vrJEl6Rl5ZYnZhP6a9oX9HpoZ5ekiLl+nH6mah1Ll7e+f5ZEl8oq+/60zu43SG49SF/P9c+6/Th9n7h1J2jannXrEV5P31f2O9N6urZMywnq/O66dRe9t6yvAgCGg0QXAGBp5a76uxOacEKk0Eny888/Pz7hij+r9+hvDz/88NrJUnwSlZM7gYpPuhT6Lp2kpyMQ4rqFv+VOrsNJbIi6J27uO6Tr8nJtIel3uRN1fb4q0SXx9+eWJ2aXLjNF3Mbu74qwbOskNlziKhbeH5b/rImuqnU8rXNuXZSy9SC8XtY/676vzroTNG1PqVMP18Z1Phe/R9GkHetuM8Lfy9pQ7VLWbgCA4SDRBQBYWjrBcSd07oSsjlx5ALpTljjqG+t4e223q4ugzS2gAIDlRaILALC0wtV+NxqjzcksJ8HAfGjdrTt6sEus4+257e2yWK/+BgBYHyS6AABLLb21RdF2pAgnwcB8hIT0vEfYsI43F0Zyadsa31a4LEJfW8a6AwDaIdEFAAAAAACAQSDRBQAAAAAAgEEg0QUAAAAAAIBBINEFAAAAAACAQSDRBQAAAAAAgEEg0QUAAAAAAIBBINEFAAAAAACAQSDRBQAAAAAAgEEg0QUAAAAAAIBBINEFAAAAAACAQSDRBQAAAAAAgEEg0QUAAAAAAIBBINEFAAAAAACAQSDRBQAAAAAAgEEg0QUAAAAAAIBBINEFAAAAAACAQSDRBQAAAAAAgEEg0QUAAAAAAIBBINEFAAAAAACAQSDRBQAAAAAAgEEg0QUAAAAAAIBBKCS6CIIgCIIgCIIgCIIgCGKZQ4muf05fJAiCIAiCIAiCIAiCIIjlih/99P8Hppdxde4UH04AAAAASUVORK5CYII="
    }
   },
   "cell_type": "markdown",
   "id": "5749a50d",
   "metadata": {},
   "source": [
    "![image-2.png](attachment:image-2.png)\n",
    "![image-3.png](attachment:image-3.png)"
   ]
  },
  {
   "cell_type": "code",
   "execution_count": 16,
   "id": "3b07ec8e",
   "metadata": {},
   "outputs": [
    {
     "name": "stdout",
     "output_type": "stream",
     "text": [
      "True\n"
     ]
    }
   ],
   "source": [
    "var=[]\n",
    "start=[]\n",
    "end=[]\n",
    "\n",
    "for col in full_data.columns:\n",
    "    var.append(col)\n",
    "    min_date = full_data[[col]].apply(pd.Series.first_valid_index).max()\n",
    "    max_date = full_data[[col]].apply(pd.Series.last_valid_index).min()\n",
    "    start.append(min_date)\n",
    "    end.append(max_date)\n",
    "    \n",
    "date_range=pd.DataFrame({'id':var, 'start':start, 'end':end})\n",
    "\n",
    "full_info=info_all.merge(date_range, how='left', on='id'\n",
    "                       ).drop(columns=['observation_start','observation_end'])\n",
    "\n",
    "print(len(list(full_info.id))==len(list(full_data.columns)))\n",
    "#full_data.columns\n",
    "\n",
    "full_info[['start','end']]=full_info[['start','end']].apply(pd.to_datetime)"
   ]
  },
  {
   "cell_type": "code",
   "execution_count": 17,
   "id": "6db249af",
   "metadata": {},
   "outputs": [],
   "source": [
    "tb_list=['TB3SMFFM','TB6SMFFM','T1YFFM','T5YFFM','T10YFFM']\n",
    "tb_name=['3M','6M','1Y','5Y','10Y']\n",
    "info_var=list(full_info.columns)\n",
    "\n",
    "for idx, (id1, name1) in enumerate(zip(tb_list[:4], tb_name[:4])):\n",
    "    for id2, name2 in zip(tb_list[idx+1:],tb_name[idx+1:]):\n",
    "        info_dict=pd.Series({'tcode':1, 'id':'{}{}'.format(name2,name1), \n",
    "                             'group':6, 'source':'FRED',\n",
    "                             'title':'{} minus {}'.format(name2, name1),\n",
    "                             'frequency_short':'M',\n",
    "                             'units_short':'%p',\n",
    "                             'seasonal_adjustment_short':'NSA',\n",
    "                             'start':pd.Timestamp(1959,1,1),\n",
    "                             'end':pd.Timestamp(2023,3,1)})\n",
    "        full_data['{}{}'.format(name2,name1)]=full_data[id2]-full_data[id1]\n",
    "        full_info=pd.concat([full_info, info_dict.to_frame().T], ignore_index=True)\n"
   ]
  },
  {
   "cell_type": "code",
   "execution_count": 18,
   "id": "a09629cf",
   "metadata": {},
   "outputs": [
    {
     "data": {
      "text/html": [
       "<div>\n",
       "<style scoped>\n",
       "    .dataframe tbody tr th:only-of-type {\n",
       "        vertical-align: middle;\n",
       "    }\n",
       "\n",
       "    .dataframe tbody tr th {\n",
       "        vertical-align: top;\n",
       "    }\n",
       "\n",
       "    .dataframe thead th {\n",
       "        text-align: right;\n",
       "    }\n",
       "</style>\n",
       "<table border=\"1\" class=\"dataframe\">\n",
       "  <thead>\n",
       "    <tr style=\"text-align: right;\">\n",
       "      <th></th>\n",
       "      <th>tcode</th>\n",
       "      <th>id</th>\n",
       "      <th>group</th>\n",
       "      <th>source</th>\n",
       "      <th>title</th>\n",
       "      <th>frequency_short</th>\n",
       "      <th>units_short</th>\n",
       "      <th>seasonal_adjustment_short</th>\n",
       "      <th>last_updated</th>\n",
       "      <th>notes</th>\n",
       "      <th>start</th>\n",
       "      <th>end</th>\n",
       "    </tr>\n",
       "  </thead>\n",
       "  <tbody>\n",
       "    <tr>\n",
       "      <th>228</th>\n",
       "      <td>1</td>\n",
       "      <td>5Y6M</td>\n",
       "      <td>6</td>\n",
       "      <td>FRED</td>\n",
       "      <td>5Y minus 6M</td>\n",
       "      <td>M</td>\n",
       "      <td>%p</td>\n",
       "      <td>NSA</td>\n",
       "      <td>NaN</td>\n",
       "      <td>NaN</td>\n",
       "      <td>1959-01-01</td>\n",
       "      <td>2023-03-01</td>\n",
       "    </tr>\n",
       "    <tr>\n",
       "      <th>229</th>\n",
       "      <td>1</td>\n",
       "      <td>10Y6M</td>\n",
       "      <td>6</td>\n",
       "      <td>FRED</td>\n",
       "      <td>10Y minus 6M</td>\n",
       "      <td>M</td>\n",
       "      <td>%p</td>\n",
       "      <td>NSA</td>\n",
       "      <td>NaN</td>\n",
       "      <td>NaN</td>\n",
       "      <td>1959-01-01</td>\n",
       "      <td>2023-03-01</td>\n",
       "    </tr>\n",
       "    <tr>\n",
       "      <th>230</th>\n",
       "      <td>1</td>\n",
       "      <td>5Y1Y</td>\n",
       "      <td>6</td>\n",
       "      <td>FRED</td>\n",
       "      <td>5Y minus 1Y</td>\n",
       "      <td>M</td>\n",
       "      <td>%p</td>\n",
       "      <td>NSA</td>\n",
       "      <td>NaN</td>\n",
       "      <td>NaN</td>\n",
       "      <td>1959-01-01</td>\n",
       "      <td>2023-03-01</td>\n",
       "    </tr>\n",
       "    <tr>\n",
       "      <th>231</th>\n",
       "      <td>1</td>\n",
       "      <td>10Y1Y</td>\n",
       "      <td>6</td>\n",
       "      <td>FRED</td>\n",
       "      <td>10Y minus 1Y</td>\n",
       "      <td>M</td>\n",
       "      <td>%p</td>\n",
       "      <td>NSA</td>\n",
       "      <td>NaN</td>\n",
       "      <td>NaN</td>\n",
       "      <td>1959-01-01</td>\n",
       "      <td>2023-03-01</td>\n",
       "    </tr>\n",
       "    <tr>\n",
       "      <th>232</th>\n",
       "      <td>1</td>\n",
       "      <td>10Y5Y</td>\n",
       "      <td>6</td>\n",
       "      <td>FRED</td>\n",
       "      <td>10Y minus 5Y</td>\n",
       "      <td>M</td>\n",
       "      <td>%p</td>\n",
       "      <td>NSA</td>\n",
       "      <td>NaN</td>\n",
       "      <td>NaN</td>\n",
       "      <td>1959-01-01</td>\n",
       "      <td>2023-03-01</td>\n",
       "    </tr>\n",
       "  </tbody>\n",
       "</table>\n",
       "</div>"
      ],
      "text/plain": [
       "    tcode     id group source         title frequency_short units_short   \n",
       "228     1   5Y6M     6   FRED   5Y minus 6M               M          %p  \\\n",
       "229     1  10Y6M     6   FRED  10Y minus 6M               M          %p   \n",
       "230     1   5Y1Y     6   FRED   5Y minus 1Y               M          %p   \n",
       "231     1  10Y1Y     6   FRED  10Y minus 1Y               M          %p   \n",
       "232     1  10Y5Y     6   FRED  10Y minus 5Y               M          %p   \n",
       "\n",
       "    seasonal_adjustment_short last_updated notes      start        end  \n",
       "228                       NSA          NaN   NaN 1959-01-01 2023-03-01  \n",
       "229                       NSA          NaN   NaN 1959-01-01 2023-03-01  \n",
       "230                       NSA          NaN   NaN 1959-01-01 2023-03-01  \n",
       "231                       NSA          NaN   NaN 1959-01-01 2023-03-01  \n",
       "232                       NSA          NaN   NaN 1959-01-01 2023-03-01  "
      ]
     },
     "execution_count": 18,
     "metadata": {},
     "output_type": "execute_result"
    }
  },
  {
   "cell_type": "code",
   "execution_count": 20,
   "id": "760bfeea",
   "metadata": {},
   "outputs": [],
   "source": [
    "full_info.to_csv (syspath+'/full_info.csv', index = False, header=True)\n",
    "full_data.to_csv (syspath+'/full_data.csv', index = True, header=True)"
   ]
  },
  {
   "cell_type": "code",
   "execution_count": null,
   "id": "3785fed5",
   "metadata": {},
   "outputs": [],
   "source": []
  }
 ],
 "metadata": {
  "hide_input": false,
  "kernelspec": {
   "display_name": "Python 3 (ipykernel)",
   "language": "python",
   "name": "python3"
  },
  "language_info": {
   "codemirror_mode": {
    "name": "ipython",
    "version": 3
   },
   "file_extension": ".py",
   "mimetype": "text/x-python",
   "name": "python",
   "nbconvert_exporter": "python",
   "pygments_lexer": "ipython3",
   "version": "3.9.12"
  },
  "toc": {
   "base_numbering": 1,
   "nav_menu": {},
   "number_sections": true,
   "sideBar": true,
   "skip_h1_title": false,
   "title_cell": "Table of Contents",
   "title_sidebar": "Contents",
   "toc_cell": false,
   "toc_position": {},
   "toc_section_display": true,
   "toc_window_display": false
  }
 },
 "nbformat": 4,
 "nbformat_minor": 5
}
